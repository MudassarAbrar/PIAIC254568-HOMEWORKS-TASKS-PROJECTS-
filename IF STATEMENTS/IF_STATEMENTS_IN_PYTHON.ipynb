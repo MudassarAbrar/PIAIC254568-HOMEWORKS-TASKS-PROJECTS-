{
  "nbformat": 4,
  "nbformat_minor": 0,
  "metadata": {
    "colab": {
      "provenance": [],
      "authorship_tag": "ABX9TyO55OYO6vdtLLHRwSW33g9l",
      "include_colab_link": true
    },
    "kernelspec": {
      "name": "python3",
      "display_name": "Python 3"
    },
    "language_info": {
      "name": "python"
    }
  },
  "cells": [
    {
      "cell_type": "markdown",
      "metadata": {
        "id": "view-in-github",
        "colab_type": "text"
      },
      "source": [
        "<a href=\"https://colab.research.google.com/github/MudassarAbrar/PIAIC254568-HOMEWORKS-TASKS-PROJECTS-/blob/main/IF%20STATEMENTS/IF_STATEMENTS_IN_PYTHON.ipynb\" target=\"_parent\"><img src=\"https://colab.research.google.com/assets/colab-badge.svg\" alt=\"Open In Colab\"/></a>"
      ]
    },
    {
      "cell_type": "code",
      "source": [
        "#02_international_voting_age\n",
        "age = int(input(\"ENTER YOUR AGE: \"))\n",
        "s1 = (\"You can vote in Peturksbouipo where the voting age is 16 \")\n",
        "s2 = (\"You can vote in Stanlau where the voting age is 25 \")\n",
        "s3 = (\"You can vote in Mayengua where the voting age is 48 \")\n",
        "s4 = (\"You cannot vote in Peturksbouipo where the voting age is 16 \")\n",
        "s5 = (\"You cannot vote in Stanlau where the voting age is 25 \")\n",
        "s6 = (\"You cannot vote in Mayengua where the voting age is 48 \")\n",
        "if age == 16:\n",
        "     print(s1,s4,s6)\n",
        "elif age == 25:\n",
        "     print(s2,s1,s6)\n",
        "elif age == 48:\n",
        "    print(s3,s1,s2)\n"
      ],
      "metadata": {
        "colab": {
          "base_uri": "https://localhost:8080/"
        },
        "id": "e-oVja5I6wub",
        "outputId": "6f2956c7-a385-4ca7-94c2-083c4042e7c1"
      },
      "execution_count": null,
      "outputs": [
        {
          "output_type": "stream",
          "name": "stdout",
          "text": [
            "ENTER YOUR AGE: 16\n",
            "You can vote in Peturksbouipo where the voting age is 16  You cannot vote in Peturksbouipo where the voting age is 16  You cannot vote in Mayengua where the voting age is 48 \n"
          ]
        }
      ]
    },
    {
      "cell_type": "code",
      "source": [
        "#01_print_events\n",
        "for x in range(20):\n",
        "  print(x*2)"
      ],
      "metadata": {
        "colab": {
          "base_uri": "https://localhost:8080/"
        },
        "id": "jzABc_aF88mP",
        "outputId": "81bd7a3b-6fba-49b9-ad6e-4b5c1aacc1fb"
      },
      "execution_count": null,
      "outputs": [
        {
          "output_type": "stream",
          "name": "stdout",
          "text": [
            "0\n",
            "2\n",
            "4\n",
            "6\n",
            "8\n",
            "10\n",
            "12\n",
            "14\n",
            "16\n",
            "18\n",
            "20\n",
            "22\n",
            "24\n",
            "26\n",
            "28\n",
            "30\n",
            "32\n",
            "34\n",
            "36\n",
            "38\n"
          ]
        }
      ]
    },
    {
      "cell_type": "code",
      "source": [
        "'''The given year must be evenly divisible by 4;\n",
        "If the year can also be evenly divided by 100, it is NOT a leap year; unless:\n",
        "The year is also evenly divisible by 400. Then it is a leap year.'''\n",
        "year = int(input(\"Enter a year: \"))\n",
        "if (year % 4) == 0:\n",
        "   if (year % 100) == 0:\n",
        "       if (year % 400) == 0:\n",
        "           print(year,\"is a leap year\")\n",
        "       else:\n",
        "         print(\"it isnt a leap year\")\n",
        "   else:\n",
        "    print(year,\"is a leap year\")\n",
        "\n",
        "else:\n",
        "  print(\"the given year isnt a leap year\")"
      ],
      "metadata": {
        "colab": {
          "base_uri": "https://localhost:8080/"
        },
        "id": "wW4CVDJiIAID",
        "outputId": "02ebeaf1-1054-4140-9938-7a16300b4906"
      },
      "execution_count": null,
      "outputs": [
        {
          "output_type": "stream",
          "name": "stdout",
          "text": [
            "Enter a year: 2020\n",
            "2020 is a leap year\n"
          ]
        }
      ]
    },
    {
      "cell_type": "code",
      "source": [
        "#04_tall_enough_to_ride\n",
        "#here im defining a definit integer exclusive\n",
        "minimum_height: int=50\n",
        "height=float(input(\"ENTER THE HEIGHT:\"))\n",
        "if height>=minimum_height:\n",
        "  print(\"YOU ARE TALL ENOUGH TO RIDE,ENJOY!!!!\")\n",
        "else:\n",
        "  print(\"YOU CANNOT RIDE,BETTER LUCK NEXT TIME\")"
      ],
      "metadata": {
        "colab": {
          "base_uri": "https://localhost:8080/"
        },
        "id": "a-dWYAUiLxdn",
        "outputId": "1fc094fc-870b-4c80-9a35-5e8c24a16133"
      },
      "execution_count": null,
      "outputs": [
        {
          "output_type": "stream",
          "name": "stdout",
          "text": [
            "ENTER THE HEIGHT:56\n",
            "YOU ARE TALL ENOUGH TO RIDE,ENJOY!!!!\n"
          ]
        }
      ]
    },
    {
      "cell_type": "code",
      "source": [
        "my_list=[]\n",
        "while True:\n",
        "  a = input(\"ENETR THE VALUES OR PRESS ENETR TO PRINT THE LIST  \")\n",
        "  if a == \"\":\n",
        "    print(my_list)\n",
        "    break\n",
        "  else:\n",
        "    my_list.append(a)\n"
      ],
      "metadata": {
        "id": "3RyRDxRJN3sY",
        "colab": {
          "base_uri": "https://localhost:8080/"
        },
        "outputId": "e4d93554-7d77-493a-92a8-bb88ad8ca860"
      },
      "execution_count": 24,
      "outputs": [
        {
          "output_type": "stream",
          "name": "stdout",
          "text": [
            "ENETR THE VALUES OR PRESS ENETR TO PRINT THE LIST  hi\n",
            "ENETR THE VALUES OR PRESS ENETR TO PRINT THE LIST  \n",
            "['hi']\n"
          ]
        }
      ]
    },
    {
      "cell_type": "code",
      "source": [
        "import random\n",
        "for x in range(10):\n",
        "  #using end to place all the values on the same line\n",
        " print(random.randrange(1,100),end=\" \")"
      ],
      "metadata": {
        "colab": {
          "base_uri": "https://localhost:8080/"
        },
        "id": "O-LlpwloRpGL",
        "outputId": "6e159da6-4087-4dc8-fa7f-c8ff76abe99a"
      },
      "execution_count": 30,
      "outputs": [
        {
          "output_type": "stream",
          "name": "stdout",
          "text": [
            "17 8 57 90 97 81 23 31 82 34 "
          ]
        }
      ]
    }
  ]
}