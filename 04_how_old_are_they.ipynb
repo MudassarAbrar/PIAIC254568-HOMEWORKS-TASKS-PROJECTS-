{
  "nbformat": 4,
  "nbformat_minor": 0,
  "metadata": {
    "colab": {
      "provenance": [],
      "authorship_tag": "ABX9TyNtmtcOIb+EBfLPMStRBiku",
      "include_colab_link": true
    },
    "kernelspec": {
      "name": "python3",
      "display_name": "Python 3"
    },
    "language_info": {
      "name": "python"
    }
  },
  "cells": [
    {
      "cell_type": "markdown",
      "metadata": {
        "id": "view-in-github",
        "colab_type": "text"
      },
      "source": [
        "<a href=\"https://colab.research.google.com/github/MudassarAbrar/PIAIC254568-HOMEWORKS-TASKS-PROJECTS-/blob/main/04_how_old_are_they.ipynb\" target=\"_parent\"><img src=\"https://colab.research.google.com/assets/colab-badge.svg\" alt=\"Open In Colab\"/></a>"
      ]
    },
    {
      "cell_type": "code",
      "source": [
        "#age-related riddle!\n",
        "\n",
        "#Anton, Beth, Chen, Drew, and Ethan are all friends. Their ages are as follows:\n",
        "#Anton is 21 years old.\n",
        "#Beth is 6 years older than Anton.\n",
        "#Chen is 20 years older than Beth.\n",
        "#Drew is as old as Chen's age plus Anton's age.\n",
        "#Ethan is the same age as Chen\n",
        "\n",
        "Anton = 21\n",
        "Beth = Anton + 6\n",
        "Chen = Beth + 20\n",
        "Drew = Chen + Anton\n",
        "Ethan = Chen\n",
        "print(f\"Anthon age is {Anton}\")\n",
        "print(f\"Beth age is {Beth}\")\n",
        "print(f\"Chen age is {Chen}\")\n",
        "print(f\"Drew age is {Drew}\")\n",
        "print(f\"Enthan age is {Ethan}\")\n"
      ],
      "metadata": {
        "colab": {
          "base_uri": "https://localhost:8080/"
        },
        "id": "2MNfs12uL5lT",
        "outputId": "31474636-6953-43c5-9c8f-3f1ab9275627"
      },
      "execution_count": 22,
      "outputs": [
        {
          "output_type": "stream",
          "name": "stdout",
          "text": [
            "Anthon age is 21\n",
            "Beth age is 27\n",
            "Chen age is 47\n",
            "Drew age is 68\n",
            "Enthan age is 47\n"
          ]
        }
      ]
    }
  ]
}