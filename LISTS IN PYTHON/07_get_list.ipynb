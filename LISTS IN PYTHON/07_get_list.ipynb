{
  "nbformat": 4,
  "nbformat_minor": 0,
  "metadata": {
    "colab": {
      "provenance": [],
      "authorship_tag": "ABX9TyNkjZvqIGafGPMc/PfilbR9",
      "include_colab_link": true
    },
    "kernelspec": {
      "name": "python3",
      "display_name": "Python 3"
    },
    "language_info": {
      "name": "python"
    }
  },
  "cells": [
    {
      "cell_type": "markdown",
      "metadata": {
        "id": "view-in-github",
        "colab_type": "text"
      },
      "source": [
        "<a href=\"https://colab.research.google.com/github/MudassarAbrar/PIAIC254568-HOMEWORKS-TASKS-PROJECTS-/blob/main/LISTS%20IN%20PYTHON/07_get_list.ipynb\" target=\"_parent\"><img src=\"https://colab.research.google.com/assets/colab-badge.svg\" alt=\"Open In Colab\"/></a>"
      ]
    },
    {
      "cell_type": "code",
      "execution_count": 5,
      "metadata": {
        "colab": {
          "base_uri": "https://localhost:8080/"
        },
        "id": "Bxbw2WpX4OgC",
        "outputId": "4fdf7fdc-7152-43a8-afea-2c160643623c"
      },
      "outputs": [
        {
          "output_type": "stream",
          "name": "stdout",
          "text": [
            "ENETR THE VALUES OR PRESS ENETR TO PRINT THE LIST  \n",
            "[]\n"
          ]
        }
      ],
      "source": [
        "my_list=[]\n",
        "while True:\n",
        "  a = input(\"ENETR THE VALUES OR PRESS ENETR TO PRINT THE LIST  \")\n",
        "  if a == \"\":\n",
        "    print(my_list)\n",
        "    break\n",
        "  else:\n",
        "    my_list.append(a)\n",
        ""
      ]
    }
  ]
}