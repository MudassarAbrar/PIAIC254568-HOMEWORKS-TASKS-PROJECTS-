{
  "nbformat": 4,
  "nbformat_minor": 0,
  "metadata": {
    "colab": {
      "provenance": [],
      "authorship_tag": "ABX9TyODizq95IfFYDQOIDD8nCct",
      "include_colab_link": true
    },
    "kernelspec": {
      "name": "python3",
      "display_name": "Python 3"
    },
    "language_info": {
      "name": "python"
    }
  },
  "cells": [
    {
      "cell_type": "markdown",
      "metadata": {
        "id": "view-in-github",
        "colab_type": "text"
      },
      "source": [
        "<a href=\"https://colab.research.google.com/github/MudassarAbrar/PIAIC254568-HOMEWORKS-TASKS-PROJECTS-/blob/main/LISTS%20IN%20PYTHON/01_add_many_number.ipynb\" target=\"_parent\"><img src=\"https://colab.research.google.com/assets/colab-badge.svg\" alt=\"Open In Colab\"/></a>"
      ]
    },
    {
      "cell_type": "code",
      "source": [
        "sum=0\n",
        "for my_num in my_list:\n",
        "   sum+=my_num\n",
        "print(sum)\n"
      ],
      "metadata": {
        "id": "nSSQ42FlqDvE"
      },
      "execution_count": null,
      "outputs": []
    },
    {
      "cell_type": "code",
      "source": [
        "my_list=[1,2,3,4,5,6]\n",
        "sums =0\n",
        "for x in range(len(my_list)):\n",
        "    sums+=my_list[x]\n",
        "\n",
        "print(sums)"
      ],
      "metadata": {
        "id": "PmU3HqnWqLd_"
      },
      "execution_count": null,
      "outputs": []
    }
  ]
}