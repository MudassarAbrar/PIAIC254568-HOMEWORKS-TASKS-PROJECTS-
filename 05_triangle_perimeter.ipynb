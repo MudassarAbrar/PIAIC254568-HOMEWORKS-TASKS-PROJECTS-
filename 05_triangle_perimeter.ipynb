{
  "nbformat": 4,
  "nbformat_minor": 0,
  "metadata": {
    "colab": {
      "provenance": [],
      "authorship_tag": "ABX9TyPIk5JiYZBJqxL+WCviTle0",
      "include_colab_link": true
    },
    "kernelspec": {
      "name": "python3",
      "display_name": "Python 3"
    },
    "language_info": {
      "name": "python"
    }
  },
  "cells": [
    {
      "cell_type": "markdown",
      "metadata": {
        "id": "view-in-github",
        "colab_type": "text"
      },
      "source": [
        "<a href=\"https://colab.research.google.com/github/MudassarAbrar/PIAIC254568-HOMEWORKS-TASKS-PROJECTS-/blob/main/05_triangle_perimeter.ipynb\" target=\"_parent\"><img src=\"https://colab.research.google.com/assets/colab-badge.svg\" alt=\"Open In Colab\"/></a>"
      ]
    },
    {
      "cell_type": "code",
      "source": [
        "a = float(input(\"ENTER LENGTH OF side a \"))\n",
        "b = float(input(\"ENTER LENGTH OF side b \"))\n",
        "c = float(input(\"ENTER LENGTH OF side c \"))\n",
        "print(f\"THE PERIMETER OF TRIANGLE IS {round(a*b*c,2)}\")\n"
      ],
      "metadata": {
        "colab": {
          "base_uri": "https://localhost:8080/"
        },
        "id": "uKMEK3ALb78t",
        "outputId": "06d02142-bd1f-4569-a058-f98b6da23dec"
      },
      "execution_count": 2,
      "outputs": [
        {
          "output_type": "stream",
          "name": "stdout",
          "text": [
            "ENTER LENGTH OF side a 45\n",
            "ENTER LENGTH OF side b 45\n",
            "ENTER LENGTH OF side c 56.789\n",
            "THE PERIMETER OF TRIANGLE IS 114997.73\n"
          ]
        }
      ]
    }
  ]
}