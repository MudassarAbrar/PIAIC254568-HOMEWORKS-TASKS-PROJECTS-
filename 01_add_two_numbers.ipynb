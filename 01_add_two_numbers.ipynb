{
  "nbformat": 4,
  "nbformat_minor": 0,
  "metadata": {
    "colab": {
      "provenance": [],
      "authorship_tag": "ABX9TyOaxZhwMbeq8sVX3eKylAWm",
      "include_colab_link": true
    },
    "kernelspec": {
      "name": "python3",
      "display_name": "Python 3"
    },
    "language_info": {
      "name": "python"
    }
  },
  "cells": [
    {
      "cell_type": "markdown",
      "metadata": {
        "id": "view-in-github",
        "colab_type": "text"
      },
      "source": [
        "<a href=\"https://colab.research.google.com/github/MudassarAbrar/PIAIC254568-HOMEWORKS-TASKS-PROJECTS-/blob/main/01_add_two_numbers.ipynb\" target=\"_parent\"><img src=\"https://colab.research.google.com/assets/colab-badge.svg\" alt=\"Open In Colab\"/></a>"
      ]
    },
    {
      "cell_type": "code",
      "execution_count": 1,
      "metadata": {
        "id": "8nv6V8Ji8LcI",
        "colab": {
          "base_uri": "https://localhost:8080/"
        },
        "outputId": "d7d706ad-8cba-4dbc-f257-83085dbbed37"
      },
      "outputs": [
        {
          "output_type": "stream",
          "name": "stdout",
          "text": [
            "ENTER FIRST NUMBER: 56\n",
            "ENTER SECOND NUMBER: 4\n",
            "THE SUM OF TWO GIVEN NUMBERS IS 60\n"
          ]
        }
      ],
      "source": [
        "a = int(input(\"ENTER FIRST NUMBER: \"))\n",
        "b = int(input(\"ENTER SECOND NUMBER: \"))\n",
        "print(f\"THE SUM OF TWO GIVEN NUMBERS IS {a+b}\")"
      ]
    }
  ]
}