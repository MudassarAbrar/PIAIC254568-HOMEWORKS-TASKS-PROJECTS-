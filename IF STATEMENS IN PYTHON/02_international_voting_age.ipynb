{
  "nbformat": 4,
  "nbformat_minor": 0,
  "metadata": {
    "colab": {
      "provenance": [],
      "authorship_tag": "ABX9TyOLt4jPAUFDI5C586vJGQCR",
      "include_colab_link": true
    },
    "kernelspec": {
      "name": "python3",
      "display_name": "Python 3"
    },
    "language_info": {
      "name": "python"
    }
  },
  "cells": [
    {
      "cell_type": "markdown",
      "metadata": {
        "id": "view-in-github",
        "colab_type": "text"
      },
      "source": [
        "<a href=\"https://colab.research.google.com/github/MudassarAbrar/PIAIC254568-HOMEWORKS-TASKS-PROJECTS-/blob/main/IF%20STATEMENS%20IN%20PYTHON/02_international_voting_age.ipynb\" target=\"_parent\"><img src=\"https://colab.research.google.com/assets/colab-badge.svg\" alt=\"Open In Colab\"/></a>"
      ]
    },
    {
      "cell_type": "code",
      "source": [
        "\n",
        "age = int(input(\"ENTER YOUR AGE: \"))\n",
        "s1 = (\"You can vote in Peturksbouipo where the voting age is 16 \")\n",
        "s2 = (\"You can vote in Stanlau where the voting age is 25 \")\n",
        "s3 = (\"You can vote in Mayengua where the voting age is 48 \")\n",
        "s4 = (\"You cannot vote in Peturksbouipo where the voting age is 16 \")\n",
        "s5 = (\"You cannot vote in Stanlau where the voting age is 25 \")\n",
        "s6 = (\"You cannot vote in Mayengua where the voting age is 48 \")\n",
        "if age == 16:\n",
        "     print(s1,s4,s6)\n",
        "elif age == 25:\n",
        "     print(s2,s1,s6)\n",
        "elif age == 48:\n",
        "    print(s3,s1,s2)\n"
      ],
      "metadata": {
        "colab": {
          "base_uri": "https://localhost:8080/"
        },
        "id": "e-oVja5I6wub",
        "outputId": "6f2956c7-a385-4ca7-94c2-083c4042e7c1"
      },
      "execution_count": 8,
      "outputs": [
        {
          "output_type": "stream",
          "name": "stdout",
          "text": [
            "ENTER YOUR AGE: 16\n",
            "You can vote in Peturksbouipo where the voting age is 16  You cannot vote in Peturksbouipo where the voting age is 16  You cannot vote in Mayengua where the voting age is 48 \n"
          ]
        }
      ]
    },
    {
      "cell_type": "code",
      "source": [],
      "metadata": {
        "id": "jzABc_aF88mP"
      },
      "execution_count": null,
      "outputs": []
    }
  ]
}