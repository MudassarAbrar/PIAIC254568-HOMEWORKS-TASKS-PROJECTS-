{
  "nbformat": 4,
  "nbformat_minor": 0,
  "metadata": {
    "colab": {
      "provenance": [],
      "authorship_tag": "ABX9TyPMyFQuDqy0s9lVd264ACGX",
      "include_colab_link": true
    },
    "kernelspec": {
      "name": "python3",
      "display_name": "Python 3"
    },
    "language_info": {
      "name": "python"
    }
  },
  "cells": [
    {
      "cell_type": "markdown",
      "metadata": {
        "id": "view-in-github",
        "colab_type": "text"
      },
      "source": [
        "<a href=\"https://colab.research.google.com/github/MudassarAbrar/PIAIC254568-HOMEWORKS-TASKS-PROJECTS-/blob/main/WEEK_04_LEC.ipynb\" target=\"_parent\"><img src=\"https://colab.research.google.com/assets/colab-badge.svg\" alt=\"Open In Colab\"/></a>"
      ]
    },
    {
      "cell_type": "code",
      "execution_count": null,
      "metadata": {
        "id": "FhiAMm3H5kKb"
      },
      "outputs": [],
      "source": [
        " #vairiables\n",
        "'''int,float '''\n",
        "name = \"      t         HAMMAD       t\"\n",
        "print(name.strip())#remove spaces from left and right\n",
        "print(name.rstrip())#remve spaces from right side\n",
        "print(name.lstrip())#remove spaces from left side\n",
        "print(name.lower())\n",
        "print(name.upper())\n",
        "print(name.title())#make first alpha capital\n",
        "print(name.count(\"M\"))#count the prescribed element in the string\n",
        "print(name.removesuffix('       '))#remove the suffix defined area,part of the string\n",
        "print(name.removeprefix('       '))#remove the prefix defined area,part of the string\n",
        "*args = {}\n",
        "#LISTS IN PYTHON\n",
        "#NEGTIVE INDEXING\n",
        "LIST=[\"HI\",\"MY\",\"NAME\",\"IS\",\"PYTHON\"]\n",
        "#NEGATIVE INDEXING IS\n",
        "#[-5,-4,-3,-2,-1]\n",
        "\n"
      ]
    }
  ]
}