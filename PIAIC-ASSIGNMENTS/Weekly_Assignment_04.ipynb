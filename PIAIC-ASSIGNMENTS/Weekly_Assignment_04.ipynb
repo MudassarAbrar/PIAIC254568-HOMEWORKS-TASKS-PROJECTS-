{
  "nbformat": 4,
  "nbformat_minor": 0,
  "metadata": {
    "colab": {
      "provenance": [],
      "authorship_tag": "ABX9TyPdqA1XDiPu9SyKhfk9K0HO",
      "include_colab_link": true
    },
    "kernelspec": {
      "name": "python3",
      "display_name": "Python 3"
    },
    "language_info": {
      "name": "python"
    }
  },
  "cells": [
    {
      "cell_type": "markdown",
      "metadata": {
        "id": "view-in-github",
        "colab_type": "text"
      },
      "source": [
        "<a href=\"https://colab.research.google.com/github/MudassarAbrar/PIAIC254568-HOMEWORKS-TASKS-PROJECTS-/blob/main/PIAIC-ASSIGNMENTS/Weekly_Assignment_04.ipynb\" target=\"_parent\"><img src=\"https://colab.research.google.com/assets/colab-badge.svg\" alt=\"Open In Colab\"/></a>"
      ]
    },
    {
      "cell_type": "code",
      "source": [
        "# Lists in Python\n",
        "# Exercise 3-1: Names\n",
        "\n",
        "names=[\"Hamad\",\"Mudassir\",\"Hamza\",\"Zohaib\"]\n",
        "names.sort()\n",
        "for name in names:\n",
        " print(name)"
      ],
      "metadata": {
        "colab": {
          "base_uri": "https://localhost:8080/"
        },
        "id": "sHDKcys2jC0p",
        "outputId": "216d38a4-d2e6-4490-a80f-33e97faf91ec"
      },
      "execution_count": 10,
      "outputs": [
        {
          "output_type": "stream",
          "name": "stdout",
          "text": [
            "Hamad\n",
            "Hamza\n",
            "Mudassir\n",
            "Zohaib\n"
          ]
        }
      ]
    },
    {
      "cell_type": "code",
      "source": [
        "# Exercise 3-2: Greetings\n",
        "\n",
        "for name in names:\n",
        " print(f\"WELLCOME {name}\")"
      ],
      "metadata": {
        "colab": {
          "base_uri": "https://localhost:8080/"
        },
        "id": "5iQB0uXLjFxS",
        "outputId": "0a3525c6-3eab-4647-b801-9189e62b5917"
      },
      "execution_count": 11,
      "outputs": [
        {
          "output_type": "stream",
          "name": "stdout",
          "text": [
            "WELLCOME Hamad\n",
            "WELLCOME Hamza\n",
            "WELLCOME Mudassir\n",
            "WELLCOME Zohaib\n"
          ]
        }
      ]
    },
    {
      "cell_type": "code",
      "source": [
        "#Exercise 3-3: Your Own List\n",
        "mode_of_transportations=[\"YBR\",\"TESLA MODEL S\",\"BMW\",\"DUCATO PANIGALE\",\"PRIVATE JET\"]\n",
        "for mode in mode_of_transportations:\n",
        " print(f\"I would like to own a {mode}\")\n",
        "\n"
      ],
      "metadata": {
        "colab": {
          "base_uri": "https://localhost:8080/"
        },
        "id": "dqCJO9NKjIrJ",
        "outputId": "bd14b4a1-1fe7-4952-e911-ab3e8deb779b"
      },
      "execution_count": 12,
      "outputs": [
        {
          "output_type": "stream",
          "name": "stdout",
          "text": [
            "I would like to own a YBR\n",
            "I would like to own a TESLA MODEL S\n",
            "I would like to own a BMW\n",
            "I would like to own a DUCATO PANIGALE\n",
            "I would like to own a PRIVATE JET\n"
          ]
        }
      ]
    },
    {
      "cell_type": "code",
      "source": [
        "#Exercise 3-4: Guest List\n",
        "names=[\"Hamad\",\"Mudassir\",\"Hamza\",\"Zohaib\"]\n",
        "names.sort()\n",
        "for name in names:\n",
        " print(f\"I WOULD LIKE TO INVITE YOU TO MY NEW YEAR DINNER PARTY {name}\")\n"
      ],
      "metadata": {
        "colab": {
          "base_uri": "https://localhost:8080/"
        },
        "id": "uAZRfANLjJfh",
        "outputId": "3cac012e-18e2-4b44-b387-67411dfae88a"
      },
      "execution_count": 13,
      "outputs": [
        {
          "output_type": "stream",
          "name": "stdout",
          "text": [
            "I WOULD LIKE TO INVITE YOU TO MY NEW YEAR DINNER PARTY Hamad\n",
            "I WOULD LIKE TO INVITE YOU TO MY NEW YEAR DINNER PARTY Hamza\n",
            "I WOULD LIKE TO INVITE YOU TO MY NEW YEAR DINNER PARTY Mudassir\n",
            "I WOULD LIKE TO INVITE YOU TO MY NEW YEAR DINNER PARTY Zohaib\n"
          ]
        }
      ]
    },
    {
      "cell_type": "code",
      "source": [
        "#Exercise 3-5: Changing Guest List\n",
        "\n",
        "names=[\"Hamad\",\"Mudassir\",\"Hamza\",\"Zohaib\"]\n",
        "names.sort()\n",
        "for name in names:\n",
        " print(f\"I WOULD LIKE TO INVITE YOU TO MY NEW YEAR DINNER PARTY {name}\")\n",
        "print(\"|----------------------------------NEW UPDATE-----------------------------------------|\")\n",
        "print(f\"          UNFORTUNATLEY, MR ZOHAIB CAN'T MAKE IT TO THE DINNER TODAY\")\n",
        "print(\"|-------------------------------------------------------------------------------------|\")\n",
        "names[names.index(\"Zohaib\")]=\"Shehrum\"\n",
        "for name in names:\n",
        " print(f\"I WOULD LIKE TO INVITE YOU TO MY NEW YEAR DINNER PARTY {name}\")\n"
      ],
      "metadata": {
        "colab": {
          "base_uri": "https://localhost:8080/"
        },
        "id": "_95FDOPLjObI",
        "outputId": "3e04f4b2-d214-4114-8ab5-9567a51733d8"
      },
      "execution_count": 14,
      "outputs": [
        {
          "output_type": "stream",
          "name": "stdout",
          "text": [
            "I WOULD LIKE TO INVITE YOU TO MY NEW YEAR DINNER PARTY Hamad\n",
            "I WOULD LIKE TO INVITE YOU TO MY NEW YEAR DINNER PARTY Hamza\n",
            "I WOULD LIKE TO INVITE YOU TO MY NEW YEAR DINNER PARTY Mudassir\n",
            "I WOULD LIKE TO INVITE YOU TO MY NEW YEAR DINNER PARTY Zohaib\n",
            "|----------------------------------NEW UPDATE-----------------------------------------|\n",
            "          UNFORTUNATLEY, MR ZOHAIB CAN'T MAKE IT TO THE DINNER TODAY\n",
            "|-------------------------------------------------------------------------------------|\n",
            "I WOULD LIKE TO INVITE YOU TO MY NEW YEAR DINNER PARTY Hamad\n",
            "I WOULD LIKE TO INVITE YOU TO MY NEW YEAR DINNER PARTY Hamza\n",
            "I WOULD LIKE TO INVITE YOU TO MY NEW YEAR DINNER PARTY Mudassir\n",
            "I WOULD LIKE TO INVITE YOU TO MY NEW YEAR DINNER PARTY Shehrum\n"
          ]
        }
      ]
    },
    {
      "cell_type": "code",
      "source": [
        "#Exercise 3-6: More Guests\n",
        "\n",
        "names=[\"Hamad\",\"Mudassir\",\"Hamza\",\"Zohaib\"]\n",
        "names.sort()\n",
        "for name in names:\n",
        " print(f\"I WOULD LIKE TO INVITE YOU TO MY NEW YEAR DINNER PARTY {name}\")\n",
        "print(\"|----------------------------------NEW UPDATE-----------------------------------------|\")\n",
        "print(f\"          UNFORTUNATLEY, MR ZOHAIB CAN'T MAKE IT TO THE DINNER TODAY\")\n",
        "print(\"|-------------------------------------------------------------------------------------|\")\n",
        "names[names.index(\"Zohaib\")]=\"Shehrum\"\n",
        "for name in names:\n",
        " print(f\"I WOULD LIKE TO INVITE YOU TO MY NEW YEAR DINNER PARTY {name}\")\n",
        "print(\"|----------------------------------NEW UPDATE-----------------------------------------|\")\n",
        "print(f\"              CONGRATULATIONS,I GOT A BIG DINNER TABLE        \")\n",
        "print(\"|-------------------------------------------------------------------------------------|\")\n",
        "\n",
        "names.insert(0,input(\"ENTER 1st GUEST NAME: \"))\n",
        "names.insert(int((len(names)+1)/2),input(\"ENTER 2nd GUEST NAME: \"))\n",
        "names.append(input(\"ENTER 3rd GUEST NAME: \"))\n",
        "for name in names:\n",
        " print(f\"I WOULD LIKE TO INVITE YOU TO MY NEW YEAR DINNER PARTY {name}\")\n",
        "\n",
        "\n"
      ],
      "metadata": {
        "colab": {
          "base_uri": "https://localhost:8080/"
        },
        "id": "Jx9Lt3_tjPb4",
        "outputId": "69f44870-919e-4158-bf01-b384829507bb"
      },
      "execution_count": 15,
      "outputs": [
        {
          "output_type": "stream",
          "name": "stdout",
          "text": [
            "I WOULD LIKE TO INVITE YOU TO MY NEW YEAR DINNER PARTY Hamad\n",
            "I WOULD LIKE TO INVITE YOU TO MY NEW YEAR DINNER PARTY Hamza\n",
            "I WOULD LIKE TO INVITE YOU TO MY NEW YEAR DINNER PARTY Mudassir\n",
            "I WOULD LIKE TO INVITE YOU TO MY NEW YEAR DINNER PARTY Zohaib\n",
            "|----------------------------------NEW UPDATE-----------------------------------------|\n",
            "          UNFORTUNATLEY, MR ZOHAIB CAN'T MAKE IT TO THE DINNER TODAY\n",
            "|-------------------------------------------------------------------------------------|\n",
            "I WOULD LIKE TO INVITE YOU TO MY NEW YEAR DINNER PARTY Hamad\n",
            "I WOULD LIKE TO INVITE YOU TO MY NEW YEAR DINNER PARTY Hamza\n",
            "I WOULD LIKE TO INVITE YOU TO MY NEW YEAR DINNER PARTY Mudassir\n",
            "I WOULD LIKE TO INVITE YOU TO MY NEW YEAR DINNER PARTY Shehrum\n",
            "|----------------------------------NEW UPDATE-----------------------------------------|\n",
            "              CONGRATULATIONS,I GOT A BIG DINNER TABLE        \n",
            "|-------------------------------------------------------------------------------------|\n",
            "ENTER 1st GUEST NAME: 1st\n",
            "ENTER 2nd GUEST NAME: 2nd\n",
            "ENTER 3rd GUEST NAME: 3rd\n",
            "I WOULD LIKE TO INVITE YOU TO MY NEW YEAR DINNER PARTY 1st\n",
            "I WOULD LIKE TO INVITE YOU TO MY NEW YEAR DINNER PARTY Hamad\n",
            "I WOULD LIKE TO INVITE YOU TO MY NEW YEAR DINNER PARTY Hamza\n",
            "I WOULD LIKE TO INVITE YOU TO MY NEW YEAR DINNER PARTY 2nd\n",
            "I WOULD LIKE TO INVITE YOU TO MY NEW YEAR DINNER PARTY Mudassir\n",
            "I WOULD LIKE TO INVITE YOU TO MY NEW YEAR DINNER PARTY Shehrum\n",
            "I WOULD LIKE TO INVITE YOU TO MY NEW YEAR DINNER PARTY 3rd\n"
          ]
        }
      ]
    },
    {
      "cell_type": "code",
      "source": [
        "#Exercise 3-7: Shrinking Guest List\n",
        "\n",
        "\n",
        "print(\"|----------------------------------NEW UPDATE-----------------------------------------|\")\n",
        "print(f\"              I CAN ONLY INVITE TWO PERSON IN MY PARTY NOW      \")\n",
        "print(\"|-------------------------------------------------------------------------------------|\")\n",
        "while len(names) > 2:\n",
        "  print(f\"Sorry, {names.pop()} I can't invite you to dinner \")\n",
        "print(\"---------------------------------------------------------------------------------------\")\n",
        "for name in names:\n",
        "  print(f\"YOU GUYS ARE STILL INVITED TO MY NEW YEAR DINNER PARTY {name}\")\n",
        "print(\"---------------------------------------------------------------------------------------\")\n",
        "del names[0]\n",
        "del names[0]\n",
        "print(names)\n",
        "print(\"---------------------------------------------------------------------------------------\")\n"
      ],
      "metadata": {
        "colab": {
          "base_uri": "https://localhost:8080/"
        },
        "id": "yTGywT5HjSkJ",
        "outputId": "feadb283-6130-4cc4-fae3-9ffeaafd5a27"
      },
      "execution_count": 16,
      "outputs": [
        {
          "output_type": "stream",
          "name": "stdout",
          "text": [
            "|----------------------------------NEW UPDATE-----------------------------------------|\n",
            "              I CAN ONLY INVITE TWO PERSON IN MY PARTY NOW      \n",
            "|-------------------------------------------------------------------------------------|\n",
            "Sorry, 3rd I can't invite you to dinner \n",
            "Sorry, Shehrum I can't invite you to dinner \n",
            "Sorry, Mudassir I can't invite you to dinner \n",
            "Sorry, 2nd I can't invite you to dinner \n",
            "Sorry, Hamza I can't invite you to dinner \n",
            "---------------------------------------------------------------------------------------\n",
            "YOU GUYS ARE STILL INVITED TO MY NEW YEAR DINNER PARTY 1st\n",
            "YOU GUYS ARE STILL INVITED TO MY NEW YEAR DINNER PARTY Hamad\n",
            "---------------------------------------------------------------------------------------\n",
            "[]\n",
            "---------------------------------------------------------------------------------------\n"
          ]
        }
      ]
    },
    {
      "cell_type": "code",
      "execution_count": 17,
      "metadata": {
        "colab": {
          "base_uri": "https://localhost:8080/"
        },
        "id": "_X3OvO3IcHb5",
        "outputId": "de9d6ac0-8c34-46c8-c52e-ee5f77647949"
      },
      "outputs": [
        {
          "output_type": "stream",
          "name": "stdout",
          "text": [
            "-----------------------------------------------------------------------\n",
            "['SOUTH KOREA', 'Paris', 'KASHMIR', 'TOKYO', 'JAPAN']\n",
            "['JAPAN', 'KASHMIR', 'Paris', 'SOUTH KOREA', 'TOKYO']\n",
            "-----------------------------------------------------------------------\n",
            "['SOUTH KOREA', 'Paris', 'KASHMIR', 'TOKYO', 'JAPAN']\n",
            "-----------------------------------------------------------------------\n",
            "['TOKYO', 'SOUTH KOREA', 'Paris', 'KASHMIR', 'JAPAN']\n",
            "--------------------------------OR-------------------------------------\n",
            "['TOKYO', 'SOUTH KOREA', 'Paris', 'KASHMIR', 'JAPAN']\n",
            "-----------------------------------------------------------------------\n",
            "['SOUTH KOREA', 'Paris', 'KASHMIR', 'TOKYO', 'JAPAN']\n",
            "-----------------------------------------------------------------------\n",
            "['JAPAN', 'TOKYO', 'KASHMIR', 'Paris', 'SOUTH KOREA']\n",
            "-----------------------------------------------------------------------\n",
            "['SOUTH KOREA', 'Paris', 'KASHMIR', 'TOKYO', 'JAPAN']\n",
            "-----------------------------------------------------------------------\n",
            "['JAPAN', 'KASHMIR', 'Paris', 'SOUTH KOREA', 'TOKYO']\n",
            "-----------------------------------------------------------------------\n",
            "['TOKYO', 'SOUTH KOREA', 'Paris', 'KASHMIR', 'JAPAN']\n",
            "-----------------------------------------------------------------------\n"
          ]
        }
      ],
      "source": [
        "#Exercise 3-8: Seeing the World\n",
        "\n",
        "# Store the locations in a list, not in alphabetical order\n",
        "locations = ['SOUTH KOREA', 'Paris', 'KASHMIR', 'TOKYO', 'JAPAN']\n",
        "\n",
        "# Print the list in its original order\n",
        "print(\"-----------------------------------------------------------------------\")\n",
        "print(locations)\n",
        "\n",
        "# Print the list in alphabetical order without modifying the original list\n",
        "print(sorted(locations))#Using sorted function here as it creates a new list without modifying the original list\n",
        "print(\"-----------------------------------------------------------------------\")\n",
        "# Show that the list is still in its original order\n",
        "print(locations)\n",
        "print(\"-----------------------------------------------------------------------\")\n",
        "# Print the list in reverse alphabetical order without modifying the original list\n",
        "print(sorted(locations, reverse=True))\n",
        "#OR\n",
        "print(\"--------------------------------OR-------------------------------------\")\n",
        "sorted_locations = sorted(locations)  # Sort in ascending order first\n",
        "reversed_locations = sorted_locations[::-1]  # Reverse using slicing\n",
        "print(reversed_locations)\n",
        "print(\"-----------------------------------------------------------------------\")\n",
        "# Show that the list is still in its original order\n",
        "print(locations)\n",
        "print(\"-----------------------------------------------------------------------\")\n",
        "# Reverse the order of the list and print it\n",
        "locations.reverse()\n",
        "print(locations)\n",
        "print(\"-----------------------------------------------------------------------\")\n",
        "# Reverse the order of the list again to restore its original order and print it\n",
        "locations.reverse()\n",
        "print(locations)\n",
        "print(\"-----------------------------------------------------------------------\")\n",
        "# Sort the list in alphabetical order and print it\n",
        "locations.sort()\n",
        "print(locations)\n",
        "print(\"-----------------------------------------------------------------------\")\n",
        "# Sort the list in reverse alphabetical order and print it\n",
        "locations.sort(reverse=True)\n",
        "print(locations)\n",
        "print(\"-----------------------------------------------------------------------\")"
      ]
    },
    {
      "cell_type": "code",
      "source": [
        "#Exercise 3-9: Dinner Guests\n",
        "names=[\"Hamad\",\"Mudassir\",\"Hamza\",\"Zohaib\"]\n",
        "\n",
        "print(f\"The total number of guests on my new year dinner part are {len(names)}\")"
      ],
      "metadata": {
        "colab": {
          "base_uri": "https://localhost:8080/"
        },
        "id": "kIcMzwaBjZx5",
        "outputId": "46eb67a0-1a4c-4952-a5ac-2a4dada31271"
      },
      "execution_count": 19,
      "outputs": [
        {
          "output_type": "stream",
          "name": "stdout",
          "text": [
            "The total number of guests on my new year dinner part are 4\n"
          ]
        }
      ]
    },
    {
      "cell_type": "code",
      "source": [
        "#Exercise 3-10: Every Function\n",
        "'''Think of things you could store in a list. For example, you could make a list of mountains, rivers, countries,\n",
        " cities, languages, or anything else you’d like. Write a program that creates\n",
        " a list containing these items and then uses each function introduced in this chapter at least once.'''\n",
        "# Create a list of countries\n",
        "countries = locations = ['SOUTH KOREA', 'Paris', 'KASHMIR', 'TOKYO', 'JAPAN']\n",
        "\n",
        "# Print the original list\n",
        "print(f\"Original list: {countries}\")\n",
        "\n",
        "# Accessing elements\n",
        "print(\"First element:\", countries[0])\n",
        "print(\"Last element:\", countries[-1])\n",
        "\n",
        "# Modifying the list\n",
        "countries.append('Australia')  # Add an element\n",
        "countries.insert(3, 'South Africa')  # Insert an element at a specific position\n",
        "del countries[5]  # Delete an element by index\n",
        "countries.remove(\"TOKYO\")  # Remove an element by value\n",
        "popped_country = countries.pop()  # Remove and return the last element\n",
        "print(f\"Popped country:{popped_country}\")\n",
        "print(f\"Modified list:{countries}\")\n",
        "\n",
        "# Organizing the list\n",
        "countries.sort()  # Sort in alphabetical order\n",
        "print(f\"Sorted list: {countries}\")\n",
        "countries.sort(reverse=True)  # Sort in reverse alphabetical order\n",
        "print(f\"Reverse-sorted list:{countries}\")\n",
        "countries.reverse()  # Reverse the order of the list\n",
        "print(f\"Reversed list:{countries}\")\n",
        "\n",
        "# Other functions\n",
        "print(\"Number of elements:\", len(countries))  # Get the length of the list\n",
        "print(\"Index of 'Paris':\", countries.index('Paris'))  # Find the index of an element\n",
        "print(\"Count of 'Paris':\", countries.count('Paris'))  # Count occurrences of an element\n"
      ],
      "metadata": {
        "colab": {
          "base_uri": "https://localhost:8080/"
        },
        "id": "c8ix_exQfUQa",
        "outputId": "de9c2b35-3550-4122-fd72-b47a3d5f23ad"
      },
      "execution_count": 8,
      "outputs": [
        {
          "output_type": "stream",
          "name": "stdout",
          "text": [
            "Original list: ['SOUTH KOREA', 'Paris', 'KASHMIR', 'TOKYO', 'JAPAN']\n",
            "First element: SOUTH KOREA\n",
            "Last element: JAPAN\n",
            "Popped country:Australia\n",
            "Modified list:['SOUTH KOREA', 'Paris', 'KASHMIR', 'South Africa']\n",
            "Sorted list: ['KASHMIR', 'Paris', 'SOUTH KOREA', 'South Africa']\n",
            "Reverse-sorted list:['South Africa', 'SOUTH KOREA', 'Paris', 'KASHMIR']\n",
            "Reversed list:['KASHMIR', 'Paris', 'SOUTH KOREA', 'South Africa']\n",
            "Number of elements: 4\n",
            "Index of 'Paris': 1\n",
            "Count of 'Paris': 1\n"
          ]
        }
      ]
    },
    {
      "cell_type": "code",
      "source": [
        "#Exercise 3-11: Intentional Error\n",
        "\n",
        "# Intentionally causing an IndexError\n",
        "print(countries[20])  # This will cause an IndexError since the list has less than 5 elements"
      ],
      "metadata": {
        "colab": {
          "base_uri": "https://localhost:8080/",
          "height": 176
        },
        "id": "i20lA88jhl8p",
        "outputId": "7984dc44-4a6b-4cb7-be4d-9810aef904b4"
      },
      "execution_count": 9,
      "outputs": [
        {
          "output_type": "error",
          "ename": "IndexError",
          "evalue": "list index out of range",
          "traceback": [
            "\u001b[0;31m---------------------------------------------------------------------------\u001b[0m",
            "\u001b[0;31mIndexError\u001b[0m                                Traceback (most recent call last)",
            "\u001b[0;32m<ipython-input-9-65a3d16968b6>\u001b[0m in \u001b[0;36m<cell line: 4>\u001b[0;34m()\u001b[0m\n\u001b[1;32m      2\u001b[0m \u001b[0;34m\u001b[0m\u001b[0m\n\u001b[1;32m      3\u001b[0m \u001b[0;31m# Intentionally causing an IndexError\u001b[0m\u001b[0;34m\u001b[0m\u001b[0;34m\u001b[0m\u001b[0m\n\u001b[0;32m----> 4\u001b[0;31m \u001b[0mprint\u001b[0m\u001b[0;34m(\u001b[0m\u001b[0mcountries\u001b[0m\u001b[0;34m[\u001b[0m\u001b[0;36m20\u001b[0m\u001b[0;34m]\u001b[0m\u001b[0;34m)\u001b[0m  \u001b[0;31m# This will cause an IndexError since the list has less than 5 elements\u001b[0m\u001b[0;34m\u001b[0m\u001b[0;34m\u001b[0m\u001b[0m\n\u001b[0m",
            "\u001b[0;31mIndexError\u001b[0m: list index out of range"
          ]
        }
      ]
    },
    {
      "cell_type": "code",
      "source": [],
      "metadata": {
        "id": "x5tKrfk2jBpy"
      },
      "execution_count": null,
      "outputs": []
    }
  ]
}