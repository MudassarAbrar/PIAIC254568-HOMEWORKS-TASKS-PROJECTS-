{
  "nbformat": 4,
  "nbformat_minor": 0,
  "metadata": {
    "colab": {
      "provenance": [],
      "authorship_tag": "ABX9TyMdT+adbuOZBkj52B09wCTb",
      "include_colab_link": true
    },
    "kernelspec": {
      "name": "python3",
      "display_name": "Python 3"
    },
    "language_info": {
      "name": "python"
    }
  },
  "cells": [
    {
      "cell_type": "markdown",
      "metadata": {
        "id": "view-in-github",
        "colab_type": "text"
      },
      "source": [
        "<a href=\"https://colab.research.google.com/github/MudassarAbrar/PIAIC254568-HOMEWORKS-TASKS-PROJECTS-/blob/main/PIAIC-ASSIGNMENTS/WEEKLY_ASSIGNMENT.NO.03.ipynb\" target=\"_parent\"><img src=\"https://colab.research.google.com/assets/colab-badge.svg\" alt=\"Open In Colab\"/></a>"
      ]
    },
    {
      "cell_type": "code",
      "execution_count": null,
      "metadata": {
        "colab": {
          "base_uri": "https://localhost:8080/"
        },
        "id": "N39c368SyCfx",
        "outputId": "8c7a7e47-b45f-4e74-e747-2399c7c80415"
      },
      "outputs": [
        {
          "output_type": "stream",
          "name": "stdout",
          "text": [
            "Enter your full name:                Mudassir Abrar         \n",
            "Hello,                Mudassir Abrar         ! Welcome to the Python assignment.\n",
            "               MUDASSIR ABRAR         \n",
            "               mudassir abrar         \n",
            "38\n",
            "---------------Mudassir-Abrar---------\n",
            "Mudassir Abrar\n",
            "Enter your birth year: 2004\n",
            "You are 20 year old!\n"
          ]
        }
      ],
      "source": [
        "#Part 1: Working with Variables, Input, and Strings\n",
        "\n",
        " #Prompt for user input\n",
        "full_name=input(\"Enter your full name: \")\n",
        " #Print a greeting message\n",
        "print(f\"Hello, {full_name}! Welcome to the Python assignment.\")\n",
        " #Print the user’s name in all uppercase letters.\n",
        "print(full_name.upper())\n",
        " #Print the user’s name in all lowercase letters.\n",
        "print(full_name.lower())\n",
        " #Print the length of the user’s name (number of characters).\n",
        "print(len(full_name))\n",
        " #Replace all the spaces in the user’s name with hyphens (-), and print the result.\n",
        "print(full_name.replace(\" \",\"-\"))\n",
        " #Trim any leading or trailing spaces (if any) from the user’s name using strip().\n",
        "print(full_name.strip())\n",
        "import datetime#HERE IM USING DATETIME MODULE TO GET THE PRESENT YEAR\n",
        " #Ask the user to enter their birth year (as input)\n",
        "birth_year=int(input(\"Enter your birth year: \"))\n",
        " #Calculate the user’s approximate age by subtracting the birth year from the current year. Print the result in a sentence.\n",
        "current_year = datetime.date.today().year\n",
        "age=current_year-birth_year\n",
        "print(f\"You are {age} year old!\")"
      ]
    },
    {
      "cell_type": "code",
      "source": [
        "#Part 2: Lists and Indexing\n",
        "\n",
        " #Create a list from user input\n",
        "fav_food=input(\"Enter your three favorite foods: \")\n",
        "fav_food_list=fav_food.split(\",\")#using \",\" delimiter here to split the string and thereturn value of string\n",
        " #method is always a list so it automatically returns a list without any explicit declaration\n",
        "print(fav_food_list)\n",
        " #List indexing and slicing\n",
        " #Print the first fruit in the list.\n",
        "print(fav_food_list[0])\n",
        " #Print the last fruit in the list.\n",
        "print(fav_food_list[-1])\n",
        " #Print the second fruit in the list\n",
        "print(fav_food_list[1])\n",
        " #Print the slice of the list containing the first two fruits.\n",
        "print(fav_food_list[:2])#I'M USING 2 AS ENDING VALUE IS EXCLUSIVE\n",
        " #List methods\n",
        " #Append a new fruit to the list\n",
        "fav_food_list.append(input(\"Enter a new fruit: \"))\n",
        "print(fav_food_list)\n",
        " #Remove one fruit from the list\n",
        "fruit_to_remove=input(\"Enter a fruit to remove: \")\n",
        "fav_food_list.remove(fruit_to_remove)\n",
        "print(fav_food_list)\n",
        " #using pop method while sing index of the food\n",
        "fruit_to_remove=int(input(\"Enter the index of the fruit to remove: \"))\n",
        "fav_food_list.pop(fruit_to_remove)\n",
        "print(fav_food_list)\n",
        " #Print the length of the list\n",
        "print(len(fav_food_list))\n",
        "\n",
        "\n",
        "\n"
      ],
      "metadata": {
        "colab": {
          "base_uri": "https://localhost:8080/"
        },
        "id": "Oa1ZvRnN1dJZ",
        "outputId": "ae0bd3ad-69f6-49c0-fb0a-a121f89e3f48"
      },
      "execution_count": null,
      "outputs": [
        {
          "output_type": "stream",
          "name": "stdout",
          "text": [
            "Enter your three favorite foods: mango,grapes,banana\n",
            "['mango', 'grapes', 'banana']\n",
            "mango\n",
            "banana\n",
            "grapes\n",
            "['mango', 'grapes']\n",
            "Enter a new fruit: peach\n",
            "['mango', 'grapes', 'banana', 'peach']\n",
            "Enter a fruit to remove: grapes\n",
            "['mango', 'banana', 'peach']\n",
            "Enter the index of the fruit to remove: 2\n",
            "['mango', 'banana']\n",
            "2\n"
          ]
        }
      ]
    },
    {
      "cell_type": "code",
      "source": [
        "#Part 3 (Optional Challenge): Combining Concepts\n",
        "\n",
        " #Create a new list from the letters of your full_name\n",
        "full_name=input(\"Enter your full name: \")\n",
        "letters_list=list(full_name.replace(\" \",\"\"))\n",
        "for i in letters_list:\n",
        "  print(i,end=\"\")\n",
        "#Print the first 3 letters and the last 3 letters of letters_list.\n",
        "\n",
        "print(letters_list[:3])#it prints starting letters from 0 to 2\n",
        "print(letters_list[-3:])#its prints ending letters from -3 to -1 (-1 is inclusive )\n",
        "new_name= \"\".join(letters_list[:3]).upper()+\"\".join(letters_list[3:-1]).lower()\n",
        "# here im using lower(),upper(),join(),concatenate() methods to get the desired output\n",
        "print(new_name)\n",
        "#Simple Arithmetic on a List of Numbers\n",
        "# Take input from the user\n",
        "numbers = input(\"Enter 5 numbers separated by space: \")\n",
        "\n",
        "# Split the input string into a list\n",
        "numbers_list = [int(x) for x in numbers.split()]\n",
        "\n",
        "print(\"List of integers:\", numbers_list)\n",
        "for num in numbers_list:\n",
        "    print(num, end=\" \")\n",
        "print()  # For newline after printing numbers in a single line\n",
        "\n",
        "# Calculate and print the sum of the numbers\n",
        "print(\"Sum of numbers:\", sum(numbers_list))\n",
        "\n",
        "# Calculate and print the average of the numbers\n",
        "print(\"Average of numbers:\", sum(numbers_list) / len(numbers_list))\n"
      ],
      "metadata": {
        "colab": {
          "base_uri": "https://localhost:8080/"
        },
        "id": "Fc5RUlj06Y3r",
        "outputId": "3378eebe-367b-4dac-b451-b9f7a43f01f1"
      },
      "execution_count": null,
      "outputs": [
        {
          "output_type": "stream",
          "name": "stdout",
          "text": [
            "Enter your full name: Mudassir Abrar\n",
            "MudassirAbrar['M', 'u', 'd']\n",
            "['r', 'a', 'r']\n",
            "MUDassirabra\n",
            "Enter 5 numbers separated by space: 3 4 5 6 7 \n",
            "List of integers: [3, 4, 5, 6, 7]\n",
            "3 4 5 6 7 \n",
            "Sum of numbers: 25\n",
            "Average of numbers: 5.0\n"
          ]
        }
      ]
    },
    {
      "cell_type": "code",
      "source": [
        "#Part 4: Additional Questions & Mini-Challenges\n",
        "\n",
        "#Fruit List Enhancements\n",
        "answer=input(\"DO YOU WANT TO SORT THE LIST (YES/NO)\")\n",
        "if answer.lower()==\"yes\":#here im using .lower so that\n",
        "  fav_food_list.sort()\n",
        "  print(fav_food_list)\n",
        "elif answer.lower()==\"no\":\n",
        "  pass#using pass here as a placeholder\n",
        "else:\n",
        "  print(\"Invalid input\")\n",
        "#Longest fruit name and the shortest fruit name\n",
        "print(max(fav_food_list,key=len))\n",
        "print(min(fav_food_list,key=len))\n",
        "\n",
        "#Searching in the Fruit List\n",
        "u_fruit=input(\"Enter a fruit to search: \")\n",
        "if u_fruit in letters_list:\n",
        "  print(f\"Fruit found at index {letters_list.index(u_fruit)}\")\n",
        "else:\n",
        "  print(\"Fruit not found\")\n",
        "\n",
        "#Name Palindrome Check (String Manipulation)\n",
        "#HERE I MADE FUCNTION WHOS PARAMETER is THE TEXT GIVEN BY THE USER\n",
        "def is_palindrome(text):\n",
        "    processed_text = text.lower().replace(\" \", \"\") #REMOVED ALL THE SPACES AND MADE THE ENTIRE TEXT LOWER CASED\n",
        "    return processed_text == processed_text[::-1]#(REVERESD NAME )\n",
        "\n",
        "print(f\"'{full_name}' is a palindrome: {is_palindrome(full_name)}\")\n",
        "\n",
        "#The minimum and maximum values in the list.\n",
        "print(min(numbers_list))\n",
        "print(max(numbers_list))\n",
        "#The product of all the numbers\n",
        "product=0\n",
        "for x in numbers_list:\n",
        "  product*=x\n",
        "print(product)\n",
        "\n",
        "#Reflection Questions\n",
        "\n",
        "#RQ1: Why do we need to convert user input (strings) to integers before doing numeric operations?\n",
        "''' NUMERIC OPERATIONS ARE MEANT TO BE PERFORMED ON NUMERIC VALUES e.g: inegers so its a must to covert\n",
        "the default input data type(string) into integers to performa the mathematical operations'''\n",
        "\n",
        "#RQ2: Could there be any issues if the user enters a non-numeric value where a number is expected? How might you\n",
        "# handle that?\n",
        "'''  YES,IT CAN CAUSE ERROR IN THE PRGORAM BEACUSE NUMERIC VALUES ARE MEANT TO PERFORMED ON SOME\n",
        " NUMERIC OPERATIONS. TO HANDLE THIS WE USE isdigit() method check that returns true only when the input\n",
        " is a digit  '''\n",
        " #RQ3: Why might slicing and indexing be helpful when working with strings or lists?\n",
        "''' The slice object defines a portion of the list to extract and indexing in list can help\n",
        "  access and manupiate the list  '''\n",
        " #RQ4: What are the advantages or disadvantages of storing user data in multiple variables vs\n",
        " # storing them in a single list?\n",
        "''' ADVANTAGES OF MULTIPLE VARIABLES\n",
        "     1: READABILITY\n",
        "     2: DIRECT ACCESS\n",
        "     3: TYPE SAFETY\n",
        "     DISADVANTAGES\n",
        "     1:DIFFICULT TO ITERATE\n",
        "     2:LESS FLEXIBLE\n",
        "     3:MORE ERROR\n",
        "     ADVANTAGES OF LIST\n",
        "     1:EASY TO ITERATE\n",
        "     2:MORE FLEXIBLE\n",
        "     3:LESS ERROR\n",
        "     4: SCALABLE\n",
        "     DISADVANTAGES\n",
        "     1:DIFFICULT TO READ\n",
        "     2:MORE MEMORY(OVER-HEAD)\n",
        "     3:LESS DISCRIPTIVE'''"
      ],
      "metadata": {
        "id": "Rd2MbVc6FXbK"
      },
      "execution_count": null,
      "outputs": []
    }
  ]
}