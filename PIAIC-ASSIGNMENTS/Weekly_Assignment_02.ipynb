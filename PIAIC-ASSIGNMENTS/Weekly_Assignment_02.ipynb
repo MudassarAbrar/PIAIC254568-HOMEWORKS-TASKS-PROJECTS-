{
  "nbformat": 4,
  "nbformat_minor": 0,
  "metadata": {
    "colab": {
      "provenance": [],
      "history_visible": true,
      "authorship_tag": "ABX9TyPjKOdAIzxaeNIzZgMNm5QE",
      "include_colab_link": true
    },
    "kernelspec": {
      "name": "python3",
      "display_name": "Python 3"
    },
    "language_info": {
      "name": "python"
    }
  },
  "cells": [
    {
      "cell_type": "markdown",
      "metadata": {
        "id": "view-in-github",
        "colab_type": "text"
      },
      "source": [
        "<a href=\"https://colab.research.google.com/github/MudassarAbrar/PIAIC254568-HOMEWORKS-TASKS-PROJECTS-/blob/main/PIAIC-ASSIGNMENTS/Weekly_Assignment_02.ipynb\" target=\"_parent\"><img src=\"https://colab.research.google.com/assets/colab-badge.svg\" alt=\"Open In Colab\"/></a>"
      ]
    },
    {
      "cell_type": "code",
      "execution_count": 3,
      "metadata": {
        "id": "VAE5iuw7mVUH",
        "colab": {
          "base_uri": "https://localhost:8080/"
        },
        "outputId": "c73282b8-571e-4f2b-f05a-895b06b26f2b"
      },
      "outputs": [
        {
          "output_type": "stream",
          "name": "stdout",
          "text": [
            "Hello, everyone! I am learning Python. 😄\n",
            "------------------------------------------\n",
            "Hello, everyone! I am learning Python. 😄\n"
          ]
        }
      ],
      "source": [
        "#Task 01:\n",
        "#Printing a Message\n",
        "#using print fucntion to print my message on the screen\n",
        "#1st method using variable\n",
        "message = \"Hello, everyone! I am learning Python. 😄\"\n",
        "print(message)\n",
        "print(\"------------------------------------------\")\n",
        "#2nd method using simple print fucntion\n",
        "print(\"Hello, everyone! I am learning Python. 😄\")"
      ]
    },
    {
      "cell_type": "code",
      "source": [
        "#Task 02:\n",
        "#Declaring Variables\n",
        "#my name as a string\n",
        "my_name=\"MUUHAMMAD MUDASSIR ABRAR BAIG \"\n",
        "#my age as an integer(int)\n",
        "my_age= 20\n",
        "#my fav animal as a string\n",
        "my_fav_animal=\"CAT\"\n",
        "# printing the message\n",
        "print(\"-------------------------------------\")\n",
        "print(\"Name: \",my_name)\n",
        "print(\"-------------------------------------\")\n",
        "print(\"Age: \",my_age)\n",
        "print(\"-------------------------------------\")\n",
        "print(\"Favorite Animal: \",my_fav_animal)\n",
        "print(\"-------------------------------------\")\n"
      ],
      "metadata": {
        "colab": {
          "base_uri": "https://localhost:8080/"
        },
        "id": "RrB4tcyx-wZh",
        "outputId": "eea5c071-173b-48bc-bee8-6d847270cb27"
      },
      "execution_count": 11,
      "outputs": [
        {
          "output_type": "stream",
          "name": "stdout",
          "text": [
            "-------------------------------------\n",
            "Name:  MUUHAMMAD MUDASSIR ABRAR BAIG \n",
            "-------------------------------------\n",
            "Age:  20\n",
            "-------------------------------------\n",
            "Favorite Animal:  CAT\n",
            "-------------------------------------\n"
          ]
        }
      ]
    },
    {
      "cell_type": "code",
      "source": [
        "#Task 3:\n",
        "#Combining Variables in a Message\n",
        "#using multiple variables to complete the senetce\n",
        "print(\"----------------------------------------------------------------------------\")\n",
        "print(\"MY NAME IS\",my_name,\"MY AGE IS\",my_age,\"MY FAV ANIMAL IS\",my_fav_animal)\n",
        "print(\"----------------------------------------------------------------------------\")\n"
      ],
      "metadata": {
        "colab": {
          "base_uri": "https://localhost:8080/"
        },
        "id": "QSvhH0eq_lVF",
        "outputId": "436fd517-5db1-4728-e358-9f67d7b3d900"
      },
      "execution_count": 12,
      "outputs": [
        {
          "output_type": "stream",
          "name": "stdout",
          "text": [
            "----------------------------------------------------------------------------\n",
            "MY NAME IS MUUHAMMAD MUDASSIR ABRAR BAIG  MY AGE IS 20 MY FAV ANIMAL IS CAT\n",
            "----------------------------------------------------------------------------\n"
          ]
        }
      ]
    },
    {
      "cell_type": "code",
      "source": [
        "#Task 4:\n",
        "#Playing with Different Data Types\n",
        "#here i am using lists to make a list of all my fav movies\n",
        "fav_movie = [\"TRAIN TO BUSAN\",\"AVENGERS ENDGAME\",\"INFINITE WAR\",\"DOCTOR STRANGE IN THE MULTIVERSE OF MADNESS\",\"GLASSWORKER\"]\n",
        "#my birth year as an integer\n",
        "birth_year = 2004\n",
        "#my fav snack price in dollars\n",
        "snacks_price = 5.99\n",
        "#print statments\n",
        "print(\"----------------------------------------------------------------------------\")\n",
        "#printing my fav movie names using lists and using for loop to print the list\n",
        "#also using var x to no. my movies\n",
        "x=1\n",
        "print(f\"MY FAV MOVIE NAMES ARE \")\n",
        "for movie in fav_movie:\n",
        "    print(f\"{x} : {movie:20}\")\n",
        "    x+=1\n",
        "print(\"----------------------------------------------------------------------------\")\n",
        "#birth year\n",
        "print(f\"MY BIRTH YEAR IS {birth_year}\")\n",
        "print(\"----------------------------------------------------------------------------\")\n",
        "#fav snak price in dollars\n",
        "print(f\"MY FAV SNACK PRICE IS ${snacks_price}\")\n",
        "print(\"----------------------------------------------------------------------------\")\n"
      ],
      "metadata": {
        "colab": {
          "base_uri": "https://localhost:8080/"
        },
        "id": "wVpARU79BDu9",
        "outputId": "9c83d90b-0a4b-4518-a694-d12358e7b11e"
      },
      "execution_count": 28,
      "outputs": [
        {
          "output_type": "stream",
          "name": "stdout",
          "text": [
            "----------------------------------------------------------------------------\n",
            "MY FAV MOVIE NAMES ARE \n",
            "1 : TRAIN TO BUSAN      \n",
            "2 : AVENGERS ENDGAME    \n",
            "3 : INFINITE WAR        \n",
            "4 : DOCTOR STRANGE IN THE MULTIVERSE OF MADNESS\n",
            "5 : GLASSWORKER         \n",
            "----------------------------------------------------------------------------\n",
            "MY BIRTH YEAR IS 2004\n",
            "----------------------------------------------------------------------------\n",
            "MY FAV SNACK PRICE IS $5.99\n",
            "----------------------------------------------------------------------------\n"
          ]
        }
      ]
    },
    {
      "cell_type": "code",
      "source": [
        "#Task 5:\n",
        "#Your Favorite Hobby\n",
        "#as the tasks is quite similar to the one i solved above im using right here input function to take input from the user\n",
        "hobby = input(\"What is your favorite hobby? \")\n",
        "print(\"--------------------------------------\")\n",
        "print(f\"Your favorite hobby is {hobby}.\")\n",
        "print(\"--------------------------------------\")"
      ],
      "metadata": {
        "colab": {
          "base_uri": "https://localhost:8080/"
        },
        "id": "GYYnLEnGG8ch",
        "outputId": "aaaf17c6-a5a8-4d43-bf39-6b9ce7b41445"
      },
      "execution_count": 31,
      "outputs": [
        {
          "output_type": "stream",
          "name": "stdout",
          "text": [
            "What is your favorite hobby? i\n",
            "--------------------------------------\n",
            "Your favorite hobby is i.\n",
            "--------------------------------------\n"
          ]
        }
      ]
    },
    {
      "cell_type": "code",
      "source": [
        "#Extra Challenge (Optional)\n",
        "#as it is an extra task so i took two var and also prompted the user to input the value for these var\n",
        "#typcasted that value to int data type\n",
        "a = int(input(\"ENTER FIRST NUMBER: \"))\n",
        "b = int(input(\"ENTER SECOND NUMBER: \"))\n",
        "#3rd var for sum\n",
        "c = a + b\n",
        "print(\"--------------------------------------\")\n",
        "print(f\"THE SUM OF {a} AND {b} IS {c}.\")\n",
        "print(\"--------------------------------------\")"
      ],
      "metadata": {
        "colab": {
          "base_uri": "https://localhost:8080/"
        },
        "id": "yacvdFL0HuPK",
        "outputId": "6a8ebca2-e71e-404a-ac5d-81391bb25112"
      },
      "execution_count": 32,
      "outputs": [
        {
          "output_type": "stream",
          "name": "stdout",
          "text": [
            "ENTER FIRST NUMBER: 4\n",
            "ENTER SECOND NUMBER: 5\n",
            "--------------------------------------\n",
            "THE SUM OF 4 AND 5 IS 9.\n",
            "--------------------------------------\n"
          ]
        }
      ]
    }
  ]
}