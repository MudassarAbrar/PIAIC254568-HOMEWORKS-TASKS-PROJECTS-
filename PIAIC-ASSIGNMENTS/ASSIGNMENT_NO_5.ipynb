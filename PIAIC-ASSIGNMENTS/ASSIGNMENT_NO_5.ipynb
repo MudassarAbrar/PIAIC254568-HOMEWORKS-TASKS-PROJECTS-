{
  "nbformat": 4,
  "nbformat_minor": 0,
  "metadata": {
    "colab": {
      "provenance": [],
      "authorship_tag": "ABX9TyM4wICxPAJFaCVuvyLDsA4B",
      "include_colab_link": true
    },
    "kernelspec": {
      "name": "python3",
      "display_name": "Python 3"
    },
    "language_info": {
      "name": "python"
    }
  },
  "cells": [
    {
      "cell_type": "markdown",
      "metadata": {
        "id": "view-in-github",
        "colab_type": "text"
      },
      "source": [
        "<a href=\"https://colab.research.google.com/github/MudassarAbrar/PIAIC254568-HOMEWORKS-TASKS-PROJECTS-/blob/main/PIAIC-ASSIGNMENTS/ASSIGNMENT_NO_5.ipynb\" target=\"_parent\"><img src=\"https://colab.research.google.com/assets/colab-badge.svg\" alt=\"Open In Colab\"/></a>"
      ]
    },
    {
      "cell_type": "markdown",
      "source": [
        "Question 1"
      ],
      "metadata": {
        "id": "QG-qWDzHLHFq"
      }
    },
    {
      "cell_type": "code",
      "source": [
        "# Ticket Pricing System\n",
        "def price_calculator(age):#I MADE A FUNC TO CALCULATE THE PRICE\n",
        "    if age < 5:\n",
        "        return 0\n",
        "    elif 5 <= age <= 17:\n",
        "        return 10\n",
        "    elif 18 <= age <= 60:\n",
        "        return 20\n",
        "    else:\n",
        "        return 15\n",
        "\n",
        "def main():\n",
        "    is_running = True\n",
        "    while is_running:#USING LOOP TO COLLECT THE DATA\n",
        "        age = input(\"Enter your age :  \")\n",
        "        if not age.isdigit() :\n",
        "            print(\"INVALID INPUT, PLEASE ENTER A VALID NUMBER\")\n",
        "            continue\n",
        "\n",
        "        age = int(age)\n",
        "        if age < 0:\n",
        "            print(\"INVALID INPUT, AGE CAN'T BE NEGATIVE\")\n",
        "            continue\n",
        "        print(\"---------------------------------------\")\n",
        "        print(f\"Ticket Price: ${price_calculator(age)}\")\n",
        "        print(\"---------------------------------------\")\n",
        "        # Asking the user if they want to continue\n",
        "        user_choice = input(\"Do you want to calculate another ticket price? (yes/no): \").strip().lower()\n",
        "        if user_choice in ['no', 'n']:\n",
        "            print(\"Thank you for using the Ticket Pricing System. Goodbye!\")\n",
        "            is_running = False\n",
        "        elif user_choice not in ['yes', 'y']:\n",
        "            print(\"Invalid input, exiting the program.\")\n",
        "            continue\n",
        "\n",
        "if __name__ == \"__main__\":#TO MAKE CODE MODULAR AND MAKE IT REUSEABLE USING THIS\n",
        "    main()\n",
        "'''\n",
        "I KNOW THERE COULD HAVE BEEN EASY APPROCHES TO DO SO BUT IM JUST USING ALL THE CONCEPTS I LEARNED SO FAR TO HAVE\n",
        "HAND ON PRACTICE EXPERIENCE'''"
      ],
      "metadata": {
        "colab": {
          "base_uri": "https://localhost:8080/"
        },
        "id": "nWQDl-yrLMRh",
        "outputId": "b437ef11-9191-4994-8d16-440f869c1008"
      },
      "execution_count": 16,
      "outputs": [
        {
          "output_type": "stream",
          "name": "stdout",
          "text": [
            "Enter your age :  89\n",
            "---------------------------------------\n",
            "Ticket Price: $15\n",
            "---------------------------------------\n",
            "Do you want to calculate another ticket price? (yes/no): yes\n",
            "Enter your age :  78\n",
            "---------------------------------------\n",
            "Ticket Price: $15\n",
            "---------------------------------------\n",
            "Do you want to calculate another ticket price? (yes/no): no\n",
            "Thank you for using the Ticket Pricing System. Goodbye!\n"
          ]
        }
      ]
    },
    {
      "cell_type": "markdown",
      "source": [
        "Question 2\n"
      ],
      "metadata": {
        "id": "Du6Tfe8cSZkY"
      }
    },
    {
      "cell_type": "code",
      "source": [
        "#Meal Recommendation\n",
        "\n",
        "def recommend_meal(time):#FUCNTION TO CAL THE MEAL\n",
        "    if 5 <= time <= 11:\n",
        "        return \"Breakfast\"\n",
        "    elif 12 <= time <= 16:\n",
        "        return \"Lunch\"\n",
        "    elif 17 <= time <= 21:\n",
        "        return \"Dinner\"\n",
        "    elif 22 <= time or time <= 4:\n",
        "        return \"Late-night Snack\"\n",
        "    else:\n",
        "        return None\n",
        "\n",
        "def main():\n",
        "    while True:#LOOPING THROUGH MAIN\n",
        "        time_input = input(\"What time is it (in 24-hour format)? \")\n",
        "        #INPUT VALIDATION\n",
        "        if not time_input.isdigit():\n",
        "            print(\"INVALID INPUT, PLEASE ENTER A VALID NUMBER BETWEEN 0 AND 23\")\n",
        "            continue\n",
        "        #EXPLICITLY MAKING THE INPUT INT TO APPLY ARITHMATIC OPERATIONS\n",
        "        time = int(time_input)\n",
        "        if time < 0 or time > 23:\n",
        "            print(\"INVALID INPUT, PLEASE ENTER A VALID TIME BETWEEN 0 AND 23\")\n",
        "            continue\n",
        "       #FINAL WORDICT FOR MEAL\n",
        "        meal = recommend_meal(time)\n",
        "        if meal:\n",
        "            print(\"---------------------------------------\")\n",
        "            print(f\"It's time for {meal}!\")\n",
        "            print(\"---------------------------------------\")\n",
        "        else:\n",
        "            print(\"---------------------------------------\")\n",
        "            print(\"Sorry, no meal recommendation available.\")\n",
        "            print(\"---------------------------------------\")\n",
        "\n",
        "        #ASKING THE USER WETHER THEY WANT TO CONTINUE OR EXIT\n",
        "        retry = input(\"Do you want to check another time? (yes/no): \").strip().lower()\n",
        "        if retry in ['no', 'n']:\n",
        "            print(\"Goodbye!\")\n",
        "            break\n",
        "\n",
        "if __name__ == \"__main__\":\n",
        "    main()\n"
      ],
      "metadata": {
        "colab": {
          "base_uri": "https://localhost:8080/"
        },
        "id": "TCyYPbW9Saeo",
        "outputId": "a15efb0c-f92b-4cae-f143-f2bcf12fc519"
      },
      "execution_count": 19,
      "outputs": [
        {
          "output_type": "stream",
          "name": "stdout",
          "text": [
            "What time is it (in 24-hour format)? 4\n",
            "---------------------------------------\n",
            "It's time for Late-night Snack!\n",
            "---------------------------------------\n",
            "Do you want to check another time? (yes/no): NO\n",
            "Goodbye!\n"
          ]
        }
      ]
    },
    {
      "cell_type": "markdown",
      "source": [
        "Question 3"
      ],
      "metadata": {
        "id": "bNVGBPWBVGr3"
      }
    },
    {
      "cell_type": "code",
      "source": [
        "# Grocery Bill Calculator\n",
        "'''First thing first i know there could have been easier approch to do this\n",
        "but im just playing with my knowledge to get the best out of it\n",
        "'''\n",
        "def calculate_total(prices):#USING FUCNTION TO CAL SUM\n",
        "    total = sum(prices)\n",
        "    return total\n",
        "\n",
        "def apply_discount(total):#USING FUNC TO CAL DIS\n",
        "    if total > 100:\n",
        "        return total * 0.9  # 10% DISCOUNT APPLIED\n",
        "    return total\n",
        "#MAIN CODE BLOCK\n",
        "def main():\n",
        "    print(\"Enter the prices of 5 grocery items:\")\n",
        "    prices = []#UISNG LIST TO STORE VALUES\n",
        "    for i in range(1, 6):#LOOPING THROUGH RANGE 5\n",
        "        while True:#USING WHILE LOOP TO KEEP THE INPUT VALID\n",
        "          #USING SEVERAL INPUT VALIDATIONS\n",
        "            price = input(f\"Price of item {i}: \")\n",
        "            if not price.replace('.', '', 1).isdigit():  #TO CHECK WETHER THE NUMBER IS VALID OR NOT\n",
        "            #HERE IM REPLACING \".\" OF DECIMAL NO. WITH \"\" SO THAT I CAN USE  IS DIGIT FUNC AND THE COUNT IS 1 IN CASE TO ONLY REMOVE 1 \".\"\n",
        "                print(\"INVALID INPUT, PLEASE ENTER A VALID NUMBER\")\n",
        "                continue\n",
        "            prices.append(float(price))#EXPLICITLY CONVERTING THE INPUT INTO FLOAT\n",
        "            break\n",
        "\n",
        "    total_bill = calculate_total(prices)\n",
        "    print(\"---------------------------------------\")\n",
        "    print(f\"Total Bill: ${total_bill:.2f}\")\n",
        "    print(\"---------------------------------------\")\n",
        "\n",
        "    discounted_total = apply_discount(total_bill)\n",
        "    if total_bill != discounted_total:\n",
        "        print(\"---------------------------------------\")\n",
        "        print(f\"Discounted Total after 10% DISCOUNT: ${discounted_total:.2f}\")\n",
        "        print(\"---------------------------------------\")\n",
        "    else:\n",
        "      print(\"No discount applied.\")\n",
        "if __name__ == \"__main__\":\n",
        "    main()\n"
      ],
      "metadata": {
        "colab": {
          "base_uri": "https://localhost:8080/"
        },
        "id": "KfE8dSvWVL8m",
        "outputId": "5377f61e-cbfb-4395-c97d-7a66e79166cd"
      },
      "execution_count": 24,
      "outputs": [
        {
          "output_type": "stream",
          "name": "stdout",
          "text": [
            "Enter the prices of 5 grocery items:\n",
            "Price of item 1: \n",
            "INVALID INPUT, PLEASE ENTER A VALID NUMBER\n",
            "Price of item 1: 2\n",
            "Price of item 2: 3\n",
            "Price of item 3: 4\n",
            "Price of item 4: 5\n",
            "Price of item 5: 678\n",
            "---------------------------------------\n",
            "Total Bill: $692.00\n",
            "---------------------------------------\n",
            "---------------------------------------\n",
            "Discounted Total after 10% DISCOUNT: $622.80\n",
            "---------------------------------------\n"
          ]
        }
      ]
    },
    {
      "cell_type": "markdown",
      "source": [
        "Question 4"
      ],
      "metadata": {
        "id": "Y1KSQ4VEZihX"
      }
    },
    {
      "cell_type": "code",
      "source": [
        "#Username Validator\n",
        "#FUNCTION FOR VALIDATION\n",
        "def is_valid_username(username):\n",
        "    # 1ST CONDITION\n",
        "    if len(username) < 5 or len(username) > 15:\n",
        "        return False\n",
        "\n",
        "    # 2ND CONDITION\n",
        "    if not username[0].isalpha():\n",
        "        return False\n",
        "\n",
        "    # IF BOTH CONDITIONS ARE TRUE\n",
        "    return True\n",
        "#MAIN BLOCK\n",
        "def main():\n",
        "    username = input(\"Enter a username: \")\n",
        "\n",
        "    if is_valid_username(username):\n",
        "        print(\"Valid username\")\n",
        "    else:\n",
        "        print(\"Invalid username. The username must be 5-15 characters long and start with a letter.\")\n",
        "\n",
        "if __name__ == \"__main__\":\n",
        "    main()\n",
        "\n"
      ],
      "metadata": {
        "colab": {
          "base_uri": "https://localhost:8080/"
        },
        "id": "iH7Z0D71ZkWm",
        "outputId": "468820df-1d4c-4906-cc31-d18d4249f75e"
      },
      "execution_count": 25,
      "outputs": [
        {
          "output_type": "stream",
          "name": "stdout",
          "text": [
            "Enter a username: MUDASSIR ABRAR\n",
            "Valid username\n"
          ]
        }
      ]
    },
    {
      "cell_type": "markdown",
      "source": [
        "Question 5"
      ],
      "metadata": {
        "id": "IPFJwUp1aYcf"
      }
    },
    {
      "cell_type": "code",
      "source": [
        "#Travel Destination Suggestion\n",
        "\n",
        "#FUCNTION TAKING WEATHER AS AN ARGUMENT\n",
        "def suggest_destination(weather):\n",
        "    # Suggest a destination based on the preferred weather\n",
        "    if weather.lower() == \"sunny\":\n",
        "        return \"Go to the beach!\"\n",
        "    elif weather.lower() == \"rainy\":\n",
        "        return \"Visit a cozy mountain lodge!\"\n",
        "    elif weather.lower() == \"snowy\":\n",
        "        return \"Time for a ski trip!\"\n",
        "    else:\n",
        "        return \"Invalid input! Please choose Sunny, Rainy, or Snowy.\"\n",
        "\n",
        "def main():\n",
        "    weather = input(\"What is your preferred weather (Sunny, Rainy, or Snowy)? \").strip()#using strip() method to\n",
        "    # remove spaces so that i can do isalpha() validation\n",
        "    suggestion = suggest_destination(weather)\n",
        "    print(\"---------------------------------------------------\")\n",
        "    print(f\"\\t{suggestion}\")\n",
        "    print(\"---------------------------------------------------\")\n",
        "\n",
        "if __name__ == \"__main__\":\n",
        "    main()\n"
      ],
      "metadata": {
        "colab": {
          "base_uri": "https://localhost:8080/"
        },
        "id": "ryx5jqQGabZ7",
        "outputId": "07b228fa-2418-4352-ba3f-62fb6396773b"
      },
      "execution_count": 30,
      "outputs": [
        {
          "output_type": "stream",
          "name": "stdout",
          "text": [
            "What is your preferred weather (Sunny, Rainy, or Snowy)? rainy\n",
            "---------------------------------------------------\n",
            "\tVisit a cozy mountain lodge!\n",
            "---------------------------------------------------\n"
          ]
        }
      ]
    },
    {
      "cell_type": "markdown",
      "source": [
        "Question 6"
      ],
      "metadata": {
        "id": "g2G_y7_Qb_IG"
      }
    },
    {
      "cell_type": "code",
      "source": [
        "# Discount Eligibility Checker\n",
        "#FUNCTION TO CHECK ELIGIBILITY\n",
        "def is_eligible_for_discount(total_spent, is_member):\n",
        "    if total_spent > 200 or is_member.lower() == \"yes\":\n",
        "        return True\n",
        "    return False\n",
        "\n",
        "def main():\n",
        "    #ASKING FOR AMOUNT SPENT\n",
        "    total_spent = float(input(\"Enter the total amount spent: $\"))\n",
        "    #ASKING FOR MEMBERSHIP\n",
        "    is_member = input(\"Are you a loyalty program member? (Yes/No): \").strip()\n",
        "\n",
        "    # ELIGIBILITY CHECKING\n",
        "    if is_eligible_for_discount(total_spent, is_member):\n",
        "        print(\"Congratulations! You are eligible for a 15% discount.\")\n",
        "        print(f\"Your discounted bill is ${total_spent*0.85}\")\n",
        "    else:\n",
        "        print(\"Sorry, you are not eligible for the discount.\")\n",
        "\n",
        "if __name__ == \"__main__\":\n",
        "    main()\n"
      ],
      "metadata": {
        "colab": {
          "base_uri": "https://localhost:8080/"
        },
        "id": "ciJ0TJsTcB4l",
        "outputId": "2a2ab25f-2b7e-4230-d6a6-549bea6fb36a"
      },
      "execution_count": 32,
      "outputs": [
        {
          "output_type": "stream",
          "name": "stdout",
          "text": [
            "Enter the total amount spent: $100\n",
            "Are you a loyalty program member? (Yes/No): yes\n",
            "Congratulations! You are eligible for a 15% discount.\n",
            "Your discounted bill is $85.0\n"
          ]
        }
      ]
    },
    {
      "cell_type": "markdown",
      "source": [
        "Question 7"
      ],
      "metadata": {
        "id": "1-86VuogdH2r"
      }
    },
    {
      "cell_type": "code",
      "source": [
        "#Event Invitation\n",
        "def is_invited(guest_list, user_name):\n",
        "    # Check if the user is in the guest list\n",
        "    return user_name in guest_list#it returns true or false\n",
        "\n",
        "def main():\n",
        "    # List of invited guests\n",
        "    guest_list = [\"Hammad\", \"Hamza\", \"Zohaib\", \"Asad\", \"Umair\"]\n",
        "\n",
        "    # Prompt the user to enter their name\n",
        "    user_name = input(\"Enter your name: \").strip()#to remoce extra spaces and to make validation check correct\n",
        "\n",
        "    # Check if the user is invited\n",
        "    if is_invited(guest_list, user_name):\n",
        "        print(\"--------------------------------------------------------\")\n",
        "        print(f\"Welcome, {user_name}! You are invited to the event.\")\n",
        "        print(\"--------------------------------------------------------\")\n",
        "    else:\n",
        "        print(f\"Sorry, {user_name}. You are not on the guest list.\")\n",
        "\n",
        "if __name__ == \"__main__\":\n",
        "    main()\n"
      ],
      "metadata": {
        "colab": {
          "base_uri": "https://localhost:8080/"
        },
        "id": "PSr0zxewdK0q",
        "outputId": "d7e20941-2248-4cfb-c6b6-9143145c93ad"
      },
      "execution_count": 34,
      "outputs": [
        {
          "output_type": "stream",
          "name": "stdout",
          "text": [
            "Enter your name: Hammad\n",
            "--------------------------------------------------------\n",
            "Welcome, Hammad! You are invited to the event.\n",
            "--------------------------------------------------------\n"
          ]
        }
      ]
    },
    {
      "cell_type": "markdown",
      "source": [
        "Question 8"
      ],
      "metadata": {
        "id": "E2Fs4e4ReV0f"
      }
    },
    {
      "cell_type": "code",
      "source": [
        "#Movie Streaming Eligibility\n",
        "def can_watch_movie(age, movie_type):\n",
        "    # Check eligibility based on age and movie type\n",
        "    if movie_type.lower() == \"action movies\" and age >= 18:\n",
        "        return True\n",
        "    elif movie_type.lower() == \"animated movies\":\n",
        "        return True\n",
        "    elif movie_type.lower() == \"documentaries\" and age >= 12:\n",
        "        return True\n",
        "    return False\n",
        "\n",
        "def main():\n",
        "    # Ask the user for their age\n",
        "    age = int(input(\"Enter your age: \"))\n",
        "\n",
        "    # Ask the user for the type of movie they want to watch\n",
        "    movie_type = input(\"Enter the type of movie (1.Action Movies, 2.Animated Movies, 3.Documentaries): \").strip()#to remoce extra leading and following spaces\n",
        "\n",
        "    # Check if the user is eligible to watch the movie\n",
        "    if can_watch_movie(age, movie_type):\n",
        "        print(\"--------------------------------------------------------\")\n",
        "        print(f\"You can watch {movie_type}\")\n",
        "        print(\"--------------------------------------------------------\")\n",
        "    else:\n",
        "        print(\"--------------------------------------------------------\")\n",
        "        print(f\"Sorry, you are not eligible to watch {movie_type}\")\n",
        "        print(\"--------------------------------------------------------\")\n",
        "if __name__ == \"__main__\":\n",
        "    main()\n"
      ],
      "metadata": {
        "colab": {
          "base_uri": "https://localhost:8080/"
        },
        "id": "MaGFOBaOeYPe",
        "outputId": "180a573d-24de-4890-e33f-8c8a04c0aee4"
      },
      "execution_count": 37,
      "outputs": [
        {
          "output_type": "stream",
          "name": "stdout",
          "text": [
            "Enter your age: 20\n",
            "Enter the type of movie (1.Action Movies, 2.Animated Movies, 3.Documentaries): action movies\n",
            "--------------------------------------------------------\n",
            "You can watch action movies\n",
            "--------------------------------------------------------\n"
          ]
        }
      ]
    },
    {
      "cell_type": "markdown",
      "source": [
        "Question 9"
      ],
      "metadata": {
        "id": "Yt-iaZo1gEar"
      }
    },
    {
      "cell_type": "code",
      "source": [
        "#Phone Number Formatter\n",
        "def format_phone_number(phone_number):\n",
        "    # Validate if the input is a 10-digit number\n",
        "    if len(phone_number) != 10 or not phone_number.isdigit():\n",
        "        return \"INVALID INPUT. Please enter a 10-digit phone number.\"\n",
        "\n",
        "    # Format the phone number\n",
        "    formatted_number = f\"({phone_number[:3]}) {phone_number[3:6]}-{phone_number[6:]}\"\n",
        "    return formatted_number\n",
        "\n",
        "def main():\n",
        "    # Get phone number input from the user\n",
        "    phone_number = input(\"Enter a 10-digit phone number: \").strip()\n",
        "\n",
        "    # Format and print the phone number\n",
        "    result = format_phone_number(phone_number)\n",
        "\n",
        "    print(\"--------------------------------------------------------\")\n",
        "    print(result)\n",
        "    print(\"--------------------------------------------------------\")\n",
        "\n",
        "if __name__ == \"__main__\":\n",
        "    main()\n"
      ],
      "metadata": {
        "colab": {
          "base_uri": "https://localhost:8080/"
        },
        "id": "NbbC6q6UgG3Q",
        "outputId": "32543658-431d-442d-f3fc-4e6d76c6aaf6"
      },
      "execution_count": 38,
      "outputs": [
        {
          "output_type": "stream",
          "name": "stdout",
          "text": [
            "Enter a 10-digit phone number: 7865435689\n",
            "--------------------------------------------------------\n",
            "(786) 543-5689\n",
            "--------------------------------------------------------\n"
          ]
        }
      ]
    },
    {
      "cell_type": "markdown",
      "source": [
        "Question 10"
      ],
      "metadata": {
        "id": "kI1zTAH3gkU_"
      }
    },
    {
      "cell_type": "code",
      "source": [
        "#Package Shipping Cost\n",
        "def calculate_shipping_cost(weight):\n",
        "    # Determine shipping cost based on the weight of the package\n",
        "    if weight <= 1:\n",
        "        return 5\n",
        "    elif 1 < weight <= 5:\n",
        "        return 10\n",
        "    elif 5 < weight <= 20:\n",
        "        return 20\n",
        "    else:\n",
        "        return 50\n",
        "\n",
        "def main():\n",
        "    while True:#while loop for input validation\n",
        "        # Get the weight of the package\n",
        "        weight_input = input(\"Enter the weight of the package (in kg): \").strip()\n",
        "\n",
        "        # Validate the input\n",
        "        if not weight_input.replace('.', '', 1).isdigit():\n",
        "            print(\"INVALID INPUT. Please enter a valid positive number.\")\n",
        "            continue\n",
        "\n",
        "        weight = float(weight_input)\n",
        "        if weight <= 0:\n",
        "            print(\"INVALID INPUT. Weight must be greater than 0.\")\n",
        "            continue\n",
        "\n",
        "        # Calculate and print the shipping cost\n",
        "        cost = calculate_shipping_cost(weight)\n",
        "        print(f\"Shipping Cost: ${cost}\")\n",
        "        break\n",
        "\n",
        "if __name__ == \"__main__\":\n",
        "    main()\n"
      ],
      "metadata": {
        "colab": {
          "base_uri": "https://localhost:8080/"
        },
        "id": "aUCw8s85gl5m",
        "outputId": "ca7992d2-6fd6-480e-8529-58901b161faf"
      },
      "execution_count": 39,
      "outputs": [
        {
          "output_type": "stream",
          "name": "stdout",
          "text": [
            "Enter the weight of the package (in kg): 67\n",
            "Shipping Cost: $50\n"
          ]
        }
      ]
    },
    {
      "cell_type": "markdown",
      "source": [
        "Question 11"
      ],
      "metadata": {
        "id": "dZ6kejPPg_dF"
      }
    },
    {
      "cell_type": "code",
      "source": [
        "#Student Grading System\n",
        "def calculate_grade(percentage):\n",
        "    #   USING MATCH-CASE (SWITCH METHOD) TO CHECK GRADE\n",
        "    # I COULD HAVE USED IFELSE TOO BUT AS I KNOW MATCH CASE TO SO I IMPLEMMENT IT HERE\n",
        "    match percentage:\n",
        "        case _ if percentage >= 90:\n",
        "            return \"A\"\n",
        "        case _ if percentage >= 80:\n",
        "            return \"B\"\n",
        "        case _ if percentage >= 70:\n",
        "            return \"C\"\n",
        "        case _ if percentage >= 60:\n",
        "            return \"D\"\n",
        "        case _:\n",
        "            return \"F\"\n",
        "\n",
        "def is_passed(marks):\n",
        "    # Check if the student passed in all subjects without using all()\n",
        "    for mark in marks:\n",
        "        if mark < 60:\n",
        "            return False  # If any mark is less than 60, the student has failed\n",
        "    return True\n",
        "\n",
        "def main():\n",
        "    # Initialize an empty list to store marks\n",
        "    marks = []\n",
        "    total_subjects = 5\n",
        "\n",
        "    print(\"Enter marks for 5 subjects (out of 100):\")\n",
        "\n",
        "    for i in range(1, total_subjects + 1):\n",
        "        while True:\n",
        "            # Get marks for each subject\n",
        "            mark_input = input(f\"Marks in Subject {i}: \").strip()\n",
        "\n",
        "            # Validate the input\n",
        "            if not mark_input.isdigit():\n",
        "                print(\"INVALID INPUT. Please enter a valid number between 0 and 100.\")\n",
        "                continue\n",
        "\n",
        "            mark = int(mark_input)\n",
        "            if mark < 0 or mark > 100:\n",
        "                print(\"INVALID INPUT. Marks must be between 0 and 100.\")\n",
        "                continue\n",
        "\n",
        "            marks.append(mark)\n",
        "            break\n",
        "\n",
        "    # Calculate total marks, percentage, and grade\n",
        "    total_marks = sum(marks)\n",
        "    percentage = (total_marks / (total_subjects * 100)) * 100\n",
        "    grade = calculate_grade(percentage)\n",
        "\n",
        "    # Check if the student passed\n",
        "    result = \"Passed\" if is_passed(marks) else \"Failed\"\n",
        "\n",
        "    # Print the results\n",
        "    print(\"\\n--- Result ---\")\n",
        "    print(f\"Total Marks: {total_marks}\")\n",
        "    print(f\"Percentage: {percentage:.2f}%\")\n",
        "    print(f\"Grade: {grade}\")\n",
        "    print(f\"Result: {result}\")\n",
        "\n",
        "if __name__ == \"__main__\":\n",
        "    main()\n",
        "\n"
      ],
      "metadata": {
        "colab": {
          "base_uri": "https://localhost:8080/"
        },
        "id": "zptFy94uhBM9",
        "outputId": "4ccb6621-5fed-4db9-d13b-fbe8ed424407"
      },
      "execution_count": 40,
      "outputs": [
        {
          "output_type": "stream",
          "name": "stdout",
          "text": [
            "Enter marks for 5 subjects (out of 100):\n",
            "Marks in Subject 1: 45\n",
            "Marks in Subject 2: 67\n",
            "Marks in Subject 3: 78\n",
            "Marks in Subject 4: 6\n",
            "Marks in Subject 5: 78\n",
            "\n",
            "--- Result ---\n",
            "Total Marks: 274\n",
            "Percentage: 54.80%\n",
            "Grade: F\n",
            "Result: Failed\n"
          ]
        }
      ]
    }
  ]
}