{
  "nbformat": 4,
  "nbformat_minor": 0,
  "metadata": {
    "colab": {
      "provenance": [],
      "authorship_tag": "ABX9TyPamA6OaMkNNiwotfdYv73n",
      "include_colab_link": true
    },
    "kernelspec": {
      "name": "python3",
      "display_name": "Python 3"
    },
    "language_info": {
      "name": "python"
    }
  },
  "cells": [
    {
      "cell_type": "markdown",
      "metadata": {
        "id": "view-in-github",
        "colab_type": "text"
      },
      "source": [
        "<a href=\"https://colab.research.google.com/github/MudassarAbrar/PIAIC254568-HOMEWORKS-TASKS-PROJECTS-/blob/main/RANDOM%20PROJECTS/SHOOPING_CART_PROJECT.ipynb\" target=\"_parent\"><img src=\"https://colab.research.google.com/assets/colab-badge.svg\" alt=\"Open In Colab\"/></a>"
      ]
    },
    {
      "cell_type": "code",
      "execution_count": null,
      "metadata": {
        "colab": {
          "base_uri": "https://localhost:8080/"
        },
        "id": "zAAn7cXxZZ3k",
        "outputId": "a1075b29-6156-4467-d1dd-f0bac3b85986"
      },
      "outputs": [
        {
          "output_type": "stream",
          "name": "stdout",
          "text": [
            "-------------------------------------------------\n",
            "\tWELCOME TO SHOPPING CART\n",
            "-------------------------------------------------\n"
          ]
        }
      ],
      "source": [
        "#This shopping cart project promt the user to enter the product name and also the price of the product and then in the end it prints the result\n",
        "shopping_list=[]\n",
        "print(\"-------------------------------------------------\")\n",
        "print(\"\\tWELCOME TO SHOPPING CART\")\n",
        "print(\"-------------------------------------------------\")\n",
        "while True:\n",
        "\n",
        " product=input(\"\\tENTER PRODUCT NAME: \\n\\tOR ENETR Q TO EXIT: \")\n",
        " if product.lower() ==\"q\":\n",
        "   print(\"----------- YOUR BILL INNOICE -----------\")\n",
        "   print(\"PRODUCT NAME\\t\\t\\tPRICE\")\n",
        "   print(\"-----------------------------------------\")\n",
        "   for product,price in shopping_list:\n",
        "    print(f\"{product}\\t\\t\\t{price}\")\n",
        "   print(\"-----------------------------------------\")\n",
        "   break\n",
        " else:\n",
        "  price=input(\"ENTER PRODUCT PRICE: \")\n",
        "  shopping_list.append((product,price))\n"
      ]
    }
  ]
}