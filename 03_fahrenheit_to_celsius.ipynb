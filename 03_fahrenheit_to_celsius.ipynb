{
  "nbformat": 4,
  "nbformat_minor": 0,
  "metadata": {
    "colab": {
      "provenance": [],
      "authorship_tag": "ABX9TyOLEwz1JAu3rDAdRM2GmMbR",
      "include_colab_link": true
    },
    "kernelspec": {
      "name": "python3",
      "display_name": "Python 3"
    },
    "language_info": {
      "name": "python"
    }
  },
  "cells": [
    {
      "cell_type": "markdown",
      "metadata": {
        "id": "view-in-github",
        "colab_type": "text"
      },
      "source": [
        "<a href=\"https://colab.research.google.com/github/MudassarAbrar/PIAIC254568-HOMEWORKS-TASKS-PROJECTS-/blob/main/03_fahrenheit_to_celsius.ipynb\" target=\"_parent\"><img src=\"https://colab.research.google.com/assets/colab-badge.svg\" alt=\"Open In Colab\"/></a>"
      ]
    },
    {
      "cell_type": "code",
      "source": [
        "print(\"SELECT YOUR TEMPERATURE SCALE \")\n",
        "print(\"Celsius\")\n",
        "print(\"Fahrenheit\")\n",
        "temp = input(\"ENTER \")\n",
        "if temp == \"Celsius\":\n",
        "  C=float(input(\"ENTER TEMP IN CELSIUS \"))\n",
        "  print(f\"The give temp in FAHRENHEIT is {((C*9)/5)+32}\")\n",
        "elif temp == \"Fahrenheit\":\n",
        "  F=float(input(\"ENTER TEMP IN Fahrenheit \"))\n",
        "  print(f\"The give temp in Celsius is {((F-32)*5)/9}\")\n",
        "else:\n",
        "  print(\"SELECT FROMTHE GIVEN OPTIONS \")\n",
        ""
      ],
      "metadata": {
        "colab": {
          "base_uri": "https://localhost:8080/"
        },
        "id": "sexPxelsDRNs",
        "outputId": "f2951412-cc56-4779-8dc9-d170fc88a2a9"
      },
      "execution_count": 19,
      "outputs": [
        {
          "output_type": "stream",
          "name": "stdout",
          "text": [
            "SELECT YOUR TEMPERATURE SCALE \n",
            "Celsius\n",
            "Fahrenheit\n",
            "ENTER Fahrenheit\n",
            "ENTER TEMP IN Fahrenheit 152.6\n",
            "The give temp in Celsius is 67.0\n"
          ]
        }
      ]
    }
  ]
}