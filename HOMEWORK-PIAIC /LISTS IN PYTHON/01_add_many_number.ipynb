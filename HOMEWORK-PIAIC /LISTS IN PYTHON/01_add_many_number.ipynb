{
  "nbformat": 4,
  "nbformat_minor": 0,
  "metadata": {
    "colab": {
      "provenance": [],
      "authorship_tag": "ABX9TyND+8hZW7GcGTWPMgCsxqm0",
      "include_colab_link": true
    },
    "kernelspec": {
      "name": "python3",
      "display_name": "Python 3"
    },
    "language_info": {
      "name": "python"
    }
  },
  "cells": [
    {
      "cell_type": "markdown",
      "metadata": {
        "id": "view-in-github",
        "colab_type": "text"
      },
      "source": [
        "<a href=\"https://colab.research.google.com/github/MudassarAbrar/PIAIC254568-HOMEWORKS-TASKS-PROJECTS-/blob/main/HOMEWORK-PIAIC%20/LISTS%20IN%20PYTHON/01_add_many_number.ipynb\" target=\"_parent\"><img src=\"https://colab.research.google.com/assets/colab-badge.svg\" alt=\"Open In Colab\"/></a>"
      ]
    },
    {
      "cell_type": "code",
      "execution_count": 6,
      "metadata": {
        "colab": {
          "base_uri": "https://localhost:8080/"
        },
        "id": "QR__OXqWgtUR",
        "outputId": "83ccd7e2-8dea-4f1a-9eca-1f29f7b44c80"
      },
      "outputs": [
        {
          "output_type": "stream",
          "name": "stdout",
          "text": [
            "21\n"
          ]
        }
      ],
      "source": [
        "my_list=[1,2,3,4,5,6]\n",
        "sums =0\n",
        "for x in range(len(my_list)):\n",
        "    sums+=my_list[x]\n",
        "\n",
        "print(sums)"
      ]
    },
    {
      "cell_type": "code",
      "source": [
        "sum=0\n",
        "for my_num in my_list:\n",
        "   sum+=my_num\n",
        "print(sum)\n"
      ],
      "metadata": {
        "colab": {
          "base_uri": "https://localhost:8080/"
        },
        "id": "FF3_HIdhiZ7e",
        "outputId": "f7298267-4be9-4024-aa88-2232bbc63c5e"
      },
      "execution_count": 7,
      "outputs": [
        {
          "output_type": "stream",
          "name": "stdout",
          "text": [
            "21\n"
          ]
        }
      ]
    }
  ]
}